{
 "metadata": {
  "language_info": {
   "codemirror_mode": {
    "name": "ipython",
    "version": 3
   },
   "file_extension": ".py",
   "mimetype": "text/x-python",
   "name": "python",
   "nbconvert_exporter": "python",
   "pygments_lexer": "ipython3",
   "version": 3
  },
  "orig_nbformat": 2
 },
 "nbformat": 4,
 "nbformat_minor": 2,
 "cells": [
  {
   "cell_type": "code",
   "execution_count": null,
   "metadata": {},
   "outputs": [],
   "source": [
    "import numpy as np\n",
    "import pandas as pd\n",
    "import random\n",
    "\n",
    "import requests\n",
    "from bs4 import BeautifulSoup\n",
    "from selenium import webdriver\n",
    "from fake_useragent import UserAgent\n",
    "\n",
    "import time\n",
    "import csv\n",
    "import os"
   ]
  },
  {
   "cell_type": "code",
   "execution_count": null,
   "metadata": {},
   "outputs": [],
   "source": [
    "player_5 = pd.read_csv('player_data_50000.csv', encoding='euc-kr')\n",
    "new_player_5 = player_5.copy()\n",
    "player_5.iloc[0].rename({'Unnamed: 0':'id'}, inplace=True)\n",
    "new_player_5['생년월일: '].replace(['년 ', '월 ', '일'],['-', '-', ''], regex=True, inplace=True)\n",
    "new_player_5.rename(columns = {'Unnamed: 0': 'id', '선수명: ' : 'playername', '생년월일: ' : 'birthdate'}, inplace=True)\n",
    "new_player_5 = new_player_5[['id', 'playername', 'birthdate']]"
   ]
  },
  {
   "cell_type": "code",
   "execution_count": null,
   "metadata": {},
   "outputs": [],
   "source": [
    "############ 여기까지 함!!! Dataframe에서 id, name, birthdate 빼내는거 하는 중 "
   ]
  },
  {
   "cell_type": "code",
   "execution_count": null,
   "metadata": {},
   "outputs": [],
   "source": [
    "for a, b, c in zip[new_player_5.iloc[0],new_player_5.iloc[1], new_player_5.iloc[2]] :\n",
    "    print(a,b,c)"
   ]
  },
  {
   "cell_type": "code",
   "execution_count": null,
   "metadata": {},
   "outputs": [],
   "source": [
    "# fake_useragent 모듈을 통한 User-Agent 정보 생성\n",
    "useragent = UserAgent()\n",
    "print(useragent.chrome)\n",
    "\n",
    "path = r'C:\\Users\\lg\\Desktop\\Scraping\\chromedriver_83.exe'\n",
    "driver = webdriver.Chrome(executable_path=path)\n",
    "\n",
    "\n",
    "\n",
    "url = 'http://www.statiz.co.kr/player.php?opt=11&name={0}&birth={1}'.format(name, birth)\n",
    "driver.get(url)\n",
    "\n",
    "# #연봉 페이지로 이동\n",
    "# driver.find_element_by_css_selector('body > div.wrapper > div.content-wrapper > div > section.content > div > div:nth-child(1) > div > div.col-xs-12.col-sm-8.col-md-8.col-lg-12 > div > div.table-responsive.no-padding.box > table > tbody > tr > td > a:nth-child(9) > i').click()"
   ]
  },
  {
   "cell_type": "code",
   "execution_count": null,
   "metadata": {},
   "outputs": [],
   "source": [
    "table = driver.find_elements_by_css_selector('table')\n",
    "lines=table[0].find_elements_by_xpath('/html/body/div[1]/div[1]/div/section[2]/div/div[2]/div/div/div/div[2]/table/tbody/tr')\n",
    "print(len(lines))\n",
    "salary = []\n",
    "for l in range(0,len(lines)) :\n",
    "    text = lines[l].text\n",
    "    line = text.split(\" \")\n",
    "    salary.append(line[:2])\n",
    "print(salary)\n",
    "header = salary[0]\n",
    "salary = pd.DataFrame(salary[1:], columns=header)\n",
    "\n",
    "salary['연봉(만원)'].replace(salary['연봉(만원)'][salary['연봉(만원)'].str.contains(',') ==  False]\n",
    "                            ,0, inplace=True) #연봉 정보 없는 경우 WAR 들어가는 것 0으로 변환\n",
    "salary.rename(columns = {'연봉(만원)' : '{0}'.format(id)}, inplace = True)\n",
    "salary['연도'] = salary['연도'].astype(int)"
   ]
  },
  {
   "cell_type": "code",
   "execution_count": null,
   "metadata": {},
   "outputs": [],
   "source": [
    "total = pd.DataFrame(range(1997,2021), columns=['연도'])\n",
    "total = total.merge(salary,how='left')\n",
    "#total.sort_values(by=['연도'], ascending=[True])\n",
    "total"
   ]
  }
 ]
}