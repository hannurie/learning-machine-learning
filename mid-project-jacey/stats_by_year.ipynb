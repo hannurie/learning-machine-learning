{
 "cells": [
  {
   "cell_type": "markdown",
   "metadata": {},
   "source": [
    "### 선수 한 명 연봉"
   ]
  },
  {
   "cell_type": "code",
   "execution_count": null,
   "metadata": {
    "tags": []
   },
   "outputs": [],
   "source": [
    "import numpy as np\n",
    "import pandas as pd\n",
    "import random\n",
    "\n",
    "import requests\n",
    "from bs4 import BeautifulSoup\n",
    "from selenium import webdriver\n",
    "from fake_useragent import UserAgent\n",
    "\n",
    "import time\n",
    "import csv\n",
    "import os"
   ]
  },
  {
   "cell_type": "code",
   "execution_count": null,
   "metadata": {
    "tags": []
   },
   "outputs": [],
   "source": [
    "# fake_useragent 모듈을 통한 User-Agent 정보 생성\n",
    "useragent = UserAgent()\n",
    "print(useragent.chrome)\n",
    "\n",
    "path = r'C:\\Users\\lg\\Desktop\\Scraping\\chromedriver_83.exe'\n",
    "driver = webdriver.Chrome(executable_path=path)\n",
    "\n",
    "name = '양현종'\n",
    "birth = '1988-03-01'\n",
    "id = 77637\n",
    "\n",
    "url = 'http://www.statiz.co.kr/player.php?opt=11&name={0}&birth={1}'.format(name, birth)\n",
    "driver.get(url)\n",
    "\n",
    "# #연봉 페이지로 이동\n",
    "# driver.find_element_by_css_selector('body > div.wrapper > div.content-wrapper > div > section.content > div > div:nth-child(1) > div > div.col-xs-12.col-sm-8.col-md-8.col-lg-12 > div > div.table-responsive.no-padding.box > table > tbody > tr > td > a:nth-child(9) > i').click()"
   ]
  },
  {
   "cell_type": "code",
   "execution_count": null,
   "metadata": {
    "tags": []
   },
   "outputs": [],
   "source": [
    "table = driver.find_elements_by_css_selector('table')\n",
    "lines=table[0].find_elements_by_xpath('/html/body/div[1]/div[1]/div/section[2]/div/div[2]/div/div/div/div[2]/table/tbody/tr')\n",
    "print(len(lines))\n",
    "salary = []\n",
    "for l in range(0,len(lines)) :\n",
    "    text = lines[l].text\n",
    "    line = text.split(\" \")\n",
    "    salary.append(line[:2])\n",
    "print(salary)\n",
    "header = salary[0]\n",
    "salary = pd.DataFrame(salary[1:], columns=header)\n",
    "\n",
    "salary['연봉(만원)'].replace(salary['연봉(만원)'][salary['연봉(만원)'].str.contains(',') ==  False]\n",
    "                            ,0, inplace=True) #연봉 정보 없는 경우 WAR 들어가는 것 0으로 변환\n",
    "salary.rename(columns = {'연봉(만원)' : '{0}'.format(id)}, inplace = True)\n",
    "salary['연도'] = salary['연도'].astype(int)"
   ]
  },
  {
   "cell_type": "markdown",
   "metadata": {},
   "source": [
    "### 선수 전체 연봉"
   ]
  },
  {
   "cell_type": "code",
   "execution_count": null,
   "metadata": {},
   "outputs": [],
   "source": [
    "import numpy as np\n",
    "import pandas as pd\n",
    "import random\n",
    "\n",
    "import requests\n",
    "from bs4 import BeautifulSoup\n",
    "from selenium import webdriver\n",
    "from fake_useragent import UserAgent\n",
    "\n",
    "import time\n",
    "import csv\n",
    "import os"
   ]
  },
  {
   "cell_type": "code",
   "execution_count": null,
   "metadata": {},
   "outputs": [],
   "source": [
    "player_info = pd.read_csv('player_info.csv', encoding='euc-kr')\n",
    "new_player_info = player_info.copy()"
   ]
  },
  {
   "cell_type": "code",
   "execution_count": null,
   "metadata": {
    "tags": []
   },
   "outputs": [],
   "source": [
    "new_player_info.info()\n",
    "print(new_player_info.head())\n",
    "print(new_player_info.tail())"
   ]
  },
  {
   "cell_type": "code",
   "execution_count": null,
   "metadata": {},
   "outputs": [],
   "source": [
    "new_player_info['id'] = new_player_info['id'].astype(int)\n",
    "new_player_info['birthdate'].replace(['년 ', '월 ', '일'],['-', '-', ''], regex=True, inplace=True)\n",
    "new_player_info = new_player_info[['id', 'playername', 'birthdate']]"
   ]
  },
  {
   "cell_type": "code",
   "execution_count": null,
   "metadata": {
    "tags": []
   },
   "outputs": [],
   "source": [
    "new_player_info.info()\n",
    "new_player_info.head()"
   ]
  },
  {
   "cell_type": "code",
   "execution_count": null,
   "metadata": {
    "tags": []
   },
   "outputs": [],
   "source": [
    "#생년월일 null인 행 제거\n",
    "new_player_info['birthdate'].isna().sum(axis=0)\n",
    "new_player_info.dropna(subset=['birthdate'], axis=0, inplace=True)\n",
    "new_player_info.info()"
   ]
  },
  {
   "cell_type": "code",
   "execution_count": null,
   "metadata": {
    "tags": []
   },
   "outputs": [],
   "source": [
    "new_player_info.info()\n",
    "print(new_player_info.head())\n",
    "print(new_player_info.tail())"
   ]
  },
  {
   "cell_type": "code",
   "execution_count": null,
   "metadata": {
    "tags": [
     "outputPrepend"
    ]
   },
   "outputs": [],
   "source": [
    "total = pd.DataFrame(range(1997,2021), columns=['연도'])\n",
    "\n",
    "# fake_useragent 모듈을 통한 User-Agent 정보 생성\n",
    "useragent = UserAgent()\n",
    "print(useragent.chrome)\n",
    "\n",
    "path = r'C:\\kkang\\dev-tool\\chromedriver.exe'\n",
    "driver = webdriver.Chrome(executable_path=path)\n",
    "\n",
    "for r in range(1000):\n",
    "    for a,b,c in [new_player_info.iloc[r,:]] : \n",
    "        #print(a,b,c) #a:id b:이름 c:생년월일\n",
    "        url = 'http://www.statiz.co.kr/player.php?opt=11&name={0}&birth={1}'.format(b,c)\n",
    "        driver.get(url)\n",
    "        time.sleep(2)       \n",
    "\n",
    "        try :\n",
    "            table = driver.find_elements_by_css_selector('table')\n",
    "            lines=table[0].find_elements_by_xpath('/html/body/div[1]/div[1]/div/section[2]/div/div[2]/div/div/div/div[2]/table/tbody/tr')\n",
    "            print(len(lines))\n",
    "\n",
    "\n",
    "            salary = []\n",
    "            for l in range(0,len(lines)) :\n",
    "                text = lines[l].text\n",
    "                line = text.split(\" \")\n",
    "                salary.append(line[:2])\n",
    "            print(salary)\n",
    "\n",
    "            header = salary[0]\n",
    "            salary = pd.DataFrame(salary[1:], columns=header)\n",
    "            salary['연봉(만원)'].replace(salary['연봉(만원)'][salary['연봉(만원)'].str.contains(',') ==  False]\n",
    "                                        ,int(0), inplace=True) #연봉 정보 없는 경우 WAR 들어가는 것 0으로 변환\n",
    "            salary.rename(columns = {'연봉(만원)' : '{0}'.format(a)}, inplace = True)\n",
    "            salary['연도'] = salary['연도'].astype(int)\n",
    "\n",
    "            total = total.merge(salary,how='left')\n",
    "            print(total)\n",
    "\n",
    "        except IndexError :\n",
    "            print(b,'error')\n",
    "            pass \n",
    "        r_number = random.randint(1,30)\n",
    "        time.sleep(r_number)       \n",
    "\n",
    "driver.quit()\n",
    "\n",
    "total.info()\n",
    "print(total.head())"
   ]
  },
  {
   "cell_type": "markdown",
   "metadata": {},
   "source": [
    "### 연도별 성적 긁기 시도 중"
   ]
  },
  {
   "cell_type": "markdown",
   "metadata": {
    "tags": []
   },
   "source": [
    "### 단일시즌"
   ]
  },
  {
   "cell_type": "code",
   "execution_count": null,
   "metadata": {
    "tags": []
   },
   "outputs": [],
   "source": [
    "# fake_useragent 모듈을 통한 User-Agent 정보 생성\n",
    "useragent = UserAgent()\n",
    "print(useragent.chrome)\n",
    "\n",
    "path = r'C:\\kkang\\dev-tool\\chromedriver.exe'\n",
    "driver = webdriver.Chrome(executable_path=path)\n",
    "\n",
    "url = 'http://www.statiz.co.kr/stat.php?mid=stat&re=1&ys=2020&ye=2020&se=0&te=&tm=&ty=0&qu=all&po=0&as=&ae=&hi=&un=&pl=&da=1&o1=GP&o2=OutCount&de=1&lr=0&tr=&cv=&ml=1&sn=300&si=&cn='\n",
    "driver.get(url)\n",
    "\n",
    "table = driver.find_elements_by_xpath('/html/body/div[1]/div[1]/div/section[2]/div/div[2]/div[6]/div/div/div[2]')\n",
    "print(table)\n",
    "lines=table[0].find_elements_by_css_selector('tr')\n",
    "print(len(lines))\n",
    "\n",
    "#컬럼명 분리\n",
    "col = list(lines[0].text.split(\"\\n\"))\n",
    "col = ['순위', '이름', '연도팀', '출장'] +\\\n",
    "      col[1:-3]  +\\\n",
    "       ['WAR', 'WPA', 'ERA', 'FIP', 'WHIP', 'ERA+', 'FIP']\n",
    "print(len(col))\n",
    "\n",
    "#내용 긁기\n",
    "stat = []\n",
    "for l in range(2,len(lines)) :\n",
    "    line = lines[l].text\n",
    "    if '\\n' in line :\n",
    "        pass    \n",
    "    else :\n",
    "        line = lines[l].text.split(\" \")\n",
    "        if len(line) == 33 :\n",
    "            stat.append(line)  \n",
    "            r_number = random.randint(1,30)\n",
    "            time.sleep(r_number) \n",
    "        else :\n",
    "            line = [0]+line\n",
    "            #print(line)\n",
    "            stat.append(line)\n",
    "            r_number = random.randint(1,30)\n",
    "            time.sleep(r_number) \n",
    "\n",
    "print(len(stat))\n",
    "driver.quit()\n",
    "\n",
    "#df로 정리\n",
    "stat = pd.DataFrame(stat, columns=col)\n",
    "stat2 = stat.copy()\n",
    "stat2 = stat2.drop(stat2.columns[0], axis=1, inplace=True)\n",
    "stat2.info()\n",
    "\n",
    "#저장\n",
    "stat2.to_csv(\"C:/kkang/trying/stat_2020.csv\", header=True, index=True, encoding='euc-kr')"
   ]
  },
  {
   "cell_type": "markdown",
   "metadata": {},
   "source": [
    "### 연도별(2014-2020.08.11)"
   ]
  },
  {
   "cell_type": "code",
   "execution_count": null,
   "metadata": {
    "tags": [
     "outputPrepend"
    ]
   },
   "outputs": [],
   "source": [
    "# fake_useragent 모듈을 통한 User-Agent 정보 생성\n",
    "useragent = UserAgent()\n",
    "print(useragent.chrome)\n",
    "\n",
    "path = r'C:\\kkang\\dev-tool\\chromedriver.exe'\n",
    "driver = webdriver.Chrome(executable_path=path)\n",
    "\n",
    "years = list(range(2014,2015))\n",
    "for y in years :\n",
    "    url = 'http://www.statiz.co.kr/stat.php?opt=0&sopt=0&re=1&ys={0}&ye={0}&se=0&te=&tm=&ty=0&qu=all&po=0&as=&ae=&hi=&un=&pl=&da=1&o1=GP&o2=OutCount&de=1&lr=0&tr=&cv=&ml=1&sn=3000&si=&cn='.format(y)\n",
    "    print(url)\n",
    "    driver.get(url)\n",
    "\n",
    "    table = driver.find_elements_by_xpath('/html/body/div[1]/div[1]/div/section[2]/div/div[2]/div[5]/div/div/div[2]')\n",
    "    print(table)\n",
    "    lines=table[0].find_elements_by_css_selector('tr')\n",
    "    print(len(lines))\n",
    "    \n",
    "   ## 컬럼명 분리\n",
    "    # col = list(lines[0].text.split(\"\\n\"))\n",
    "    # cols = ['순위', '이름', '연도팀', '출장'] +\\\n",
    "    #     col[1:-3]  +\\\n",
    "    #     ['WAR', 'WPA', 'ERA', 'FIP', 'WHIP', 'ERA+', 'FIP']\n",
    "    cols = ['순위','이름','연도팀','출장','출장','완투','완봉','선발',\\\n",
    "            '승','패','세','홀드','이닝','실점','자책','타자',\\\n",
    "            '안타','2타','3타','홈런','볼넷','고4','사구','삼진','보크','폭투',\\\n",
    "            'WAR','WPA','ERA','FIP','WHIP','ERA+','FIP']\n",
    "\n",
    "    #내용 긁기\n",
    "    stat = []\n",
    "    for l in range(2,len(lines)-2) :\n",
    "        line = lines[l].text\n",
    "        if '\\n' in line :\n",
    "            pass    \n",
    "        else :\n",
    "            line = lines[l].text.split(\" \")\n",
    "            if len(line) == 33 :\n",
    "                stat.append(line)  \n",
    "                print(line)\n",
    "            #     r_number = random.randint(1,3)\n",
    "            #     time.sleep(r_number) \n",
    "            else :\n",
    "                line = [0]+line\n",
    "                print(line)\n",
    "                stat.append(line)\n",
    "                # r_number = random.randint(1,3)\n",
    "                # time.sleep(r_number) \n",
    "\n",
    "    print(len(stat))\n",
    "\n",
    "    #df로 정리\n",
    "    stat = pd.DataFrame(stat, columns=cols)\n",
    "    stat2 = stat.copy()\n",
    "    stat2 = stat2.drop(stat2.columns[0], axis=1)\n",
    "\n",
    "    #저장\n",
    "    filename = \"stat_{0}.csv\".format(y)\n",
    "    print(filename)\n",
    "    stat2.to_csv(r\"C:\\kkang\\trying\\stat_by_year\\{0}\".format(filename), header=True, index=True, encoding='euc-kr')\n",
    "\n",
    "    time.sleep(5)\n",
    "driver.quit()    "
   ]
  },
  {
   "cell_type": "markdown",
   "metadata": {},
   "source": [
    "### 2014년 이전 (2타, 3타, WPA X)"
   ]
  },
  {
   "cell_type": "code",
   "execution_count": null,
   "metadata": {
    "tags": []
   },
   "outputs": [],
   "source": [
    "# fake_useragent 모듈을 통한 User-Agent 정보 생성\n",
    "useragent = UserAgent()\n",
    "print(useragent.chrome)\n",
    "\n",
    "# #크롬 headless 옵션\n",
    "# options = webdriver.ChromeOptions()\n",
    "# options.headless = True\n",
    "# #options.add_argument('window-size=1920x1080')\n",
    "# options.add_argument(\"disable-gpu\")\n",
    "# #headless 탐지 막기\n",
    "# options.add_argument(\"user-agent=Mozilla/5.0 (Windows NT 10.0; Win64; x64) AppleWebKit/537.36 (KHTML, like Gecko) Chrome/84.0.4147.125 Safari/537.36\")\n",
    "\n",
    "path = r'C:\\kkang\\dev-tool\\chromedriver.exe'\n",
    "driver = webdriver.Chrome(executable_path=path)\n",
    "\n",
    "years = list(range(20011,2014))\n",
    "for y in years :\n",
    "    url = 'http://www.statiz.co.kr/stat.php?opt=0&sopt=0&re=1&ys={0}&ye={0}&se=0&te=&tm=&ty=0&qu=all&po=0&as=&ae=&hi=&un=&pl=&da=1&o1=GP&o2=OutCount&de=1&lr=0&tr=&cv=&ml=1&sn=3000&si=&cn='.format(y)\n",
    "    print(url)\n",
    "    driver.get(url)\n",
    "\n",
    "    table = driver.find_elements_by_xpath('/html/body/div[1]/div[1]/div/section[2]/div/div[2]/div[5]/div/div/div[2]')\n",
    "    print(table)\n",
    "    lines=table[0].find_elements_by_css_selector('tr')\n",
    "    print(len(lines))\n",
    "    \n",
    "   # 컬럼명 분리\n",
    "    # col = list(lines[0].text.split(\"\\n\"))\n",
    "    # cols = ['순위', '이름', '연도팀', '출장'] +\\\n",
    "    #     col[1:-3]  +\\\n",
    "    #     ['WAR', 'WPA', 'ERA', 'FIP', 'WHIP', 'ERA+', 'FIP']\n",
    "    # print(cols, len(cols))\n",
    "\n",
    "    cols = ['순위','이름','연도팀','출장','출장','완투','완봉','선발',\\\n",
    "            '승','패','세','홀드','이닝','실점','자책','타자',\\\n",
    "            '안타','홈런','볼넷','고4','사구','삼진','보크','폭투',\\\n",
    "            'ERA','FIP','WHIP','ERA+','FIP', 'WAR']\n",
    "\n",
    "    #내용 긁기\n",
    "    stat = []\n",
    "    for l in range(2,len(lines)-2) :\n",
    "        line = lines[l].text\n",
    "        if '\\n' in line :\n",
    "            pass    \n",
    "        else :\n",
    "            line = lines[l].text.split(\" \")\n",
    "            if len(line) == 30 :\n",
    "                stat.append(line)  \n",
    "                #print(line)\n",
    "            #     r_number = random.randint(1,3)\n",
    "            #     time.sleep(r_number) \n",
    "            else :\n",
    "                line = [0]+line\n",
    "                #print(line)\n",
    "                stat.append(line)\n",
    "                # r_number = random.randint(1,3)\n",
    "                # time.sleep(r_number) \n",
    "\n",
    "    print(len(stat))\n",
    "\n",
    "    #df로 정리\n",
    "    stat = pd.DataFrame(stat, columns=cols)\n",
    "    stat2 = stat.copy()\n",
    "    stat2 = stat2.drop(stat2.columns[0], axis=1)\n",
    "\n",
    "    #2014년 이후랑 열갯수 & 순서 맞추기 위해 새로운 df 생성\n",
    "    stat2.insert(16,'2타', 0)\n",
    "    stat2.insert(17,'3타', 0)\n",
    "    stat2.insert(25,'WPA', 0)\n",
    "    df1 = stat2.iloc[:, :25]\n",
    "    df2 = pd.DataFrame(stat2['WAR'])\n",
    "    df3 = stat2.iloc[:,25:-1]\n",
    "    stat3 = pd.concat([df1, df2, df3], axis=1) \n",
    "\n",
    "    #저장\n",
    "    filename = \"stat_{0}.csv\".format(y)\n",
    "    print(filename)\n",
    "    stat3.to_csv(r\"C:\\kkang\\trying\\stat_by_year\\{0}\".format(filename), header=True, index=True, encoding='euc-kr')\n",
    "\n",
    "    time.sleep(5)\n",
    "driver.quit()    "
   ]
  }
 ],
 "metadata": {
  "kernelspec": {
   "display_name": "Python 3",
   "language": "python",
   "name": "python3"
  },
  "language_info": {
   "codemirror_mode": {
    "name": "ipython",
    "version": 3
   },
   "file_extension": ".py",
   "mimetype": "text/x-python",
   "name": "python",
   "nbconvert_exporter": "python",
   "pygments_lexer": "ipython3",
   "version": "3.6.10"
  }
 },
 "nbformat": 4,
 "nbformat_minor": 4
}