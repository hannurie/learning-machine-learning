{
 "metadata": {
  "language_info": {
   "codemirror_mode": {
    "name": "ipython",
    "version": 3
   },
   "file_extension": ".py",
   "mimetype": "text/x-python",
   "name": "python",
   "nbconvert_exporter": "python",
   "pygments_lexer": "ipython3",
   "version": "3.7.7-final"
  },
  "orig_nbformat": 2,
  "kernelspec": {
   "name": "python_defaultSpec_1597109188154",
   "display_name": "Python 3.6.10 64-bit ('hoseo': conda)"
  }
 },
 "nbformat": 4,
 "nbformat_minor": 2,
 "cells": [
  {
   "cell_type": "markdown",
   "metadata": {},
   "source": [
    "### 선수 한 명 연봉"
   ]
  },
  {
   "cell_type": "code",
   "execution_count": null,
   "metadata": {},
   "outputs": [],
   "source": [
    "import numpy as np\n",
    "import pandas as pd\n",
    "import random\n",
    "\n",
    "import requests\n",
    "from bs4 import BeautifulSoup\n",
    "from selenium import webdriver\n",
    "from fake_useragent import UserAgent\n",
    "\n",
    "import time\n",
    "import csv\n",
    "import os"
   ]
  },
  {
   "cell_type": "code",
   "execution_count": null,
   "metadata": {
    "tags": []
   },
   "outputs": [],
   "source": [
    "# fake_useragent 모듈을 통한 User-Agent 정보 생성\n",
    "useragent = UserAgent()\n",
    "print(useragent.chrome)\n",
    "\n",
    "path = r'C:\\Users\\lg\\Desktop\\Scraping\\chromedriver_83.exe'\n",
    "driver = webdriver.Chrome(executable_path=path)\n",
    "\n",
    "name = '양현종'\n",
    "birth = '1988-03-01'\n",
    "id = 77637\n",
    "\n",
    "url = 'http://www.statiz.co.kr/player.php?opt=11&name={0}&birth={1}'.format(name, birth)\n",
    "driver.get(url)\n",
    "\n",
    "# #연봉 페이지로 이동\n",
    "# driver.find_element_by_css_selector('body > div.wrapper > div.content-wrapper > div > section.content > div > div:nth-child(1) > div > div.col-xs-12.col-sm-8.col-md-8.col-lg-12 > div > div.table-responsive.no-padding.box > table > tbody > tr > td > a:nth-child(9) > i').click()"
   ]
  },
  {
   "cell_type": "code",
   "execution_count": null,
   "metadata": {
    "tags": []
   },
   "outputs": [],
   "source": [
    "table = driver.find_elements_by_css_selector('table')\n",
    "lines=table[0].find_elements_by_xpath('/html/body/div[1]/div[1]/div/section[2]/div/div[2]/div/div/div/div[2]/table/tbody/tr')\n",
    "print(len(lines))\n",
    "salary = []\n",
    "for l in range(0,len(lines)) :\n",
    "    text = lines[l].text\n",
    "    line = text.split(\" \")\n",
    "    salary.append(line[:2])\n",
    "print(salary)\n",
    "header = salary[0]\n",
    "salary = pd.DataFrame(salary[1:], columns=header)\n",
    "\n",
    "salary['연봉(만원)'].replace(salary['연봉(만원)'][salary['연봉(만원)'].str.contains(',') ==  False]\n",
    "                            ,0, inplace=True) #연봉 정보 없는 경우 WAR 들어가는 것 0으로 변환\n",
    "salary.rename(columns = {'연봉(만원)' : '{0}'.format(id)}, inplace = True)\n",
    "salary['연도'] = salary['연도'].astype(int)"
   ]
  },
  {
   "cell_type": "markdown",
   "metadata": {},
   "source": [
    "### 선수 전체 연봉"
   ]
  },
  {
   "cell_type": "code",
   "execution_count": 98,
   "metadata": {},
   "outputs": [],
   "source": [
    "import numpy as np\n",
    "import pandas as pd\n",
    "import random\n",
    "\n",
    "import requests\n",
    "from bs4 import BeautifulSoup\n",
    "from selenium import webdriver\n",
    "from fake_useragent import UserAgent\n",
    "\n",
    "import time\n",
    "import csv\n",
    "import os"
   ]
  },
  {
   "cell_type": "code",
   "execution_count": 99,
   "metadata": {},
   "outputs": [],
   "source": [
    "player_info = pd.read_csv('player_info.csv', encoding='euc-kr')\n",
    "new_player_info = player_info.copy()"
   ]
  },
  {
   "cell_type": "code",
   "execution_count": 100,
   "metadata": {
    "tags": []
   },
   "outputs": [
    {
     "output_type": "stream",
     "name": "stdout",
     "text": "<class 'pandas.core.frame.DataFrame'>\nRangeIndex: 4501 entries, 0 to 4500\nData columns (total 11 columns):\n #   Column         Non-Null Count  Dtype  \n---  ------         --------------  -----  \n 0   id             4501 non-null   int64  \n 1   playername     4501 non-null   object \n 2   backno         3737 non-null   float64\n 3   birthdate      4365 non-null   object \n 4   position       4501 non-null   object \n 5   height-weight  4501 non-null   object \n 6   carrer         4351 non-null   object \n 7   deposit        746 non-null    object \n 8   salary         882 non-null    object \n 9   pick           2175 non-null   object \n 10  proYr          1905 non-null   object \ndtypes: float64(1), int64(1), object(9)\nmemory usage: 386.9+ KB\n      id playername  backno      birthdate   position height-weight  \\\n0  50001        강병철    80.0  1946년 08월 12일     (우투우타)    176cm/80kg   \n1  50002        이희수    81.0  1948년 01월 17일     (우투우타)    170cm/68kg   \n2  50003        이충순     NaN  1900년 01월 01일         ()       0cm/0kg   \n3  50004        백기성    78.0  1949년 03월 27일     (우투우타)    173cm/75kg   \n4  50007        문상준   107.0  2001년 03월 14일  내야수(우투우타)    183cm/80kg   \n\n             carrer deposit  salary                pick proYr  \n0  동신초-대신중-부산상고-우석대     NaN     NaN                 NaN   NaN  \n1            성남고-농협     NaN     NaN                 NaN   NaN  \n2               NaN     NaN     NaN                 NaN   NaN  \n3               배문고     NaN     NaN                 NaN   NaN  \n4       가동초-휘문중-휘문고  4000만원  2700만원  20 KT 2차 8라운드 72순위   NaN  \n         id playername  backno      birthdate   position height-weight  \\\n4496  99742        김병준    11.0  1977년 04월 01일   투수(우투우타)    184cm/84kg   \n4497  99745        방재훈    45.0  1975년 03월 03일  외야수(우투우타)    181cm/83kg   \n4498  99767        전하진    67.0  1979년 02월 11일   투수(우투우타)    180cm/78kg   \n4499  99810        이진영    72.0  1980년 06월 15일     (좌투좌타)    185cm/90kg   \n4500  99846        비아노    46.0  1973년 09월 04일   투수(우투우타)    180cm/82kg   \n\n                          carrer deposit salary       pick  proYr  \n4496                     대전고-고려대     NaN    NaN        NaN    NaN  \n4497                     북일고-경성대     NaN    NaN        NaN    NaN  \n4498                   세광고-제주관광대     NaN    NaN        NaN    NaN  \n4499  군산초-군산남중-군산상고-쌍방울-SK-LG-KT     NaN    NaN  99 쌍방울 1차  99쌍방울  \n4500                   미국 롱비치시립대     NaN    NaN        NaN    NaN  \n"
    }
   ],
   "source": [
    "new_player_info.info()\n",
    "print(new_player_info.head())\n",
    "print(new_player_info.tail())"
   ]
  },
  {
   "cell_type": "code",
   "execution_count": 101,
   "metadata": {},
   "outputs": [],
   "source": [
    "new_player_info['id'] = new_player_info['id'].astype(int)\n",
    "new_player_info['birthdate'].replace(['년 ', '월 ', '일'],['-', '-', ''], regex=True, inplace=True)\n",
    "new_player_info = new_player_info[['id', 'playername', 'birthdate']]"
   ]
  },
  {
   "cell_type": "code",
   "execution_count": 102,
   "metadata": {
    "tags": []
   },
   "outputs": [
    {
     "output_type": "stream",
     "name": "stdout",
     "text": "<class 'pandas.core.frame.DataFrame'>\nRangeIndex: 4501 entries, 0 to 4500\nData columns (total 3 columns):\n #   Column      Non-Null Count  Dtype \n---  ------      --------------  ----- \n 0   id          4501 non-null   int32 \n 1   playername  4501 non-null   object\n 2   birthdate   4365 non-null   object\ndtypes: int32(1), object(2)\nmemory usage: 88.0+ KB\n"
    },
    {
     "output_type": "execute_result",
     "data": {
      "text/plain": "      id playername   birthdate\n0  50001        강병철  1946-08-12\n1  50002        이희수  1948-01-17\n2  50003        이충순  1900-01-01\n3  50004        백기성  1949-03-27\n4  50007        문상준  2001-03-14",
      "text/html": "<div>\n<style scoped>\n    .dataframe tbody tr th:only-of-type {\n        vertical-align: middle;\n    }\n\n    .dataframe tbody tr th {\n        vertical-align: top;\n    }\n\n    .dataframe thead th {\n        text-align: right;\n    }\n</style>\n<table border=\"1\" class=\"dataframe\">\n  <thead>\n    <tr style=\"text-align: right;\">\n      <th></th>\n      <th>id</th>\n      <th>playername</th>\n      <th>birthdate</th>\n    </tr>\n  </thead>\n  <tbody>\n    <tr>\n      <th>0</th>\n      <td>50001</td>\n      <td>강병철</td>\n      <td>1946-08-12</td>\n    </tr>\n    <tr>\n      <th>1</th>\n      <td>50002</td>\n      <td>이희수</td>\n      <td>1948-01-17</td>\n    </tr>\n    <tr>\n      <th>2</th>\n      <td>50003</td>\n      <td>이충순</td>\n      <td>1900-01-01</td>\n    </tr>\n    <tr>\n      <th>3</th>\n      <td>50004</td>\n      <td>백기성</td>\n      <td>1949-03-27</td>\n    </tr>\n    <tr>\n      <th>4</th>\n      <td>50007</td>\n      <td>문상준</td>\n      <td>2001-03-14</td>\n    </tr>\n  </tbody>\n</table>\n</div>"
     },
     "metadata": {},
     "execution_count": 102
    }
   ],
   "source": [
    "new_player_info.info()\n",
    "new_player_info.head()"
   ]
  },
  {
   "cell_type": "code",
   "execution_count": 103,
   "metadata": {
    "tags": []
   },
   "outputs": [
    {
     "output_type": "stream",
     "name": "stdout",
     "text": "<class 'pandas.core.frame.DataFrame'>\nInt64Index: 4365 entries, 0 to 4500\nData columns (total 3 columns):\n #   Column      Non-Null Count  Dtype \n---  ------      --------------  ----- \n 0   id          4365 non-null   int32 \n 1   playername  4365 non-null   object\n 2   birthdate   4365 non-null   object\ndtypes: int32(1), object(2)\nmemory usage: 119.4+ KB\n"
    }
   ],
   "source": [
    "#생년월일 null인 행 제거\n",
    "new_player_info['birthdate'].isna().sum(axis=0)\n",
    "new_player_info.dropna(subset=['birthdate'], axis=0, inplace=True)\n",
    "new_player_info.info()"
   ]
  },
  {
   "cell_type": "code",
   "execution_count": 104,
   "metadata": {
    "tags": []
   },
   "outputs": [
    {
     "output_type": "stream",
     "name": "stdout",
     "text": "<class 'pandas.core.frame.DataFrame'>\nInt64Index: 4365 entries, 0 to 4500\nData columns (total 3 columns):\n #   Column      Non-Null Count  Dtype \n---  ------      --------------  ----- \n 0   id          4365 non-null   int32 \n 1   playername  4365 non-null   object\n 2   birthdate   4365 non-null   object\ndtypes: int32(1), object(2)\nmemory usage: 119.4+ KB\n      id playername   birthdate\n0  50001        강병철  1946-08-12\n1  50002        이희수  1948-01-17\n2  50003        이충순  1900-01-01\n3  50004        백기성  1949-03-27\n4  50007        문상준  2001-03-14\n         id playername   birthdate\n4496  99742        김병준  1977-04-01\n4497  99745        방재훈  1975-03-03\n4498  99767        전하진  1979-02-11\n4499  99810        이진영  1980-06-15\n4500  99846        비아노  1973-09-04\n"
    }
   ],
   "source": [
    "new_player_info.info()\n",
    "print(new_player_info.head())\n",
    "print(new_player_info.tail())"
   ]
  },
  {
   "cell_type": "code",
   "execution_count": 106,
   "metadata": {
    "tags": [
     "outputPrepend"
    ]
   },
   "outputs": [
    {
     "output_type": "stream",
     "name": "stdout",
     "text": "..      NaN      NaN    NaN   NaN    NaN      NaN     NaN      NaN   \n11  ...      NaN      NaN    NaN   NaN    NaN      NaN     NaN      NaN   \n12  ...      NaN      NaN    NaN   NaN    NaN      NaN     NaN      NaN   \n13  ...      NaN      NaN    NaN   NaN    NaN      NaN     NaN      NaN   \n14  ...      NaN      NaN    NaN   NaN    NaN      NaN     NaN      NaN   \n15  ...      NaN      NaN    NaN   NaN    NaN      NaN     NaN      NaN   \n16  ...      NaN      NaN    NaN   NaN    NaN      NaN     NaN      NaN   \n17  ...  900,000      NaN  2,400   NaN  2,400      NaN   2,400  900,000   \n18  ...      NaN      NaN    NaN   NaN    NaN      NaN  16,000      NaN   \n19  ...      NaN      NaN    NaN   NaN    NaN      NaN  16,000      NaN   \n20  ...      NaN      NaN    NaN   NaN  2,800  900,000  22,000      NaN   \n21  ...      NaN  900,000    NaN   NaN  3,000      NaN  32,000      NaN   \n22  ...      NaN      NaN    NaN   0.0  3,000      NaN  32,000      NaN   \n23  ...      NaN      NaN    NaN   0.0  3,500      NaN  32,000      NaN   \n\n    64346  64350  \n0     NaN    NaN  \n1     NaN    NaN  \n2     NaN    NaN  \n3     NaN    NaN  \n4     NaN    NaN  \n5     NaN    NaN  \n6     NaN    NaN  \n7     NaN    NaN  \n8     NaN    NaN  \n9     NaN    NaN  \n10    NaN    NaN  \n11    NaN    NaN  \n12    NaN    NaN  \n13    NaN    NaN  \n14    NaN    NaN  \n15    NaN    NaN  \n16    NaN    NaN  \n17    NaN  2,400  \n18  4,000  5,500  \n19  4,000  5,500  \n20  6,500  6,000  \n21  5,000  5,500  \n22  5,000    NaN  \n23  5,000    NaN  \n\n[24 rows x 406 columns]\n2\n[['연도', '연봉(만원)'], ['2015', '900,000']]\n      연도  50030  50036   50040  50054  50066  50126  50150  50157   50165  \\\n0   1997    NaN    NaN     NaN    NaN    NaN    NaN    NaN    NaN     NaN   \n1   1998    NaN    NaN     NaN    NaN    NaN    NaN    NaN    NaN     NaN   \n2   1999    NaN    NaN     NaN    NaN    NaN    NaN    NaN    NaN     NaN   \n3   2000    NaN    NaN     NaN    NaN    NaN    NaN    NaN    NaN     NaN   \n4   2001    NaN    NaN     NaN    NaN    NaN    NaN    NaN    NaN     NaN   \n5   2002    NaN    NaN     NaN    NaN    NaN    NaN    NaN    NaN     NaN   \n6   2003    NaN    NaN     NaN    NaN    NaN    NaN    NaN    NaN     NaN   \n7   2004    NaN    NaN     NaN    NaN    NaN    NaN    NaN    NaN     NaN   \n8   2005    NaN    NaN     NaN    NaN    NaN    NaN    NaN    NaN     NaN   \n9   2006    NaN    NaN     NaN    NaN    NaN    NaN    NaN    NaN     NaN   \n10  2007    NaN    NaN     NaN    NaN    NaN    NaN    NaN    NaN     NaN   \n11  2008    NaN    NaN     NaN    NaN    NaN    NaN    NaN    NaN     NaN   \n12  2009    NaN    NaN     NaN    NaN    NaN    NaN    NaN    NaN     NaN   \n13  2010    NaN    NaN     NaN    NaN    NaN    NaN    NaN    NaN     NaN   \n14  2011    NaN    NaN     NaN    NaN    NaN    NaN    NaN    NaN     NaN   \n15  2012    NaN    NaN     NaN    NaN    NaN    NaN    NaN    NaN     NaN   \n16  2013    NaN    NaN     NaN    NaN    NaN    NaN    NaN    NaN     NaN   \n17  2014    NaN    NaN     NaN    NaN    NaN    NaN    NaN    NaN     NaN   \n18  2015    NaN    NaN     NaN    NaN    NaN    NaN    NaN    NaN     NaN   \n19  2016    NaN    NaN     NaN    NaN    NaN    NaN    NaN    NaN     NaN   \n20  2017    NaN    NaN     NaN    NaN    NaN    NaN    NaN    NaN     NaN   \n21  2018    NaN    NaN     NaN    NaN    NaN    NaN    NaN    NaN     NaN   \n22  2019    NaN    NaN     NaN    NaN    NaN    NaN    NaN    NaN     NaN   \n23  2020  2,700  2,700  45,000  2,700  2,700  2,700  2,700  2,700  30,000   \n\n    ...    64255  64259 64260  64266    64267   64300    64302  64346  64350  \\\n0   ...      NaN    NaN   NaN    NaN      NaN     NaN      NaN    NaN    NaN   \n1   ...      NaN    NaN   NaN    NaN      NaN     NaN      NaN    NaN    NaN   \n2   ...      NaN    NaN   NaN    NaN      NaN     NaN      NaN    NaN    NaN   \n3   ...      NaN    NaN   NaN    NaN      NaN     NaN      NaN    NaN    NaN   \n4   ...      NaN    NaN   NaN    NaN      NaN     NaN      NaN    NaN    NaN   \n5   ...      NaN    NaN   NaN    NaN      NaN     NaN      NaN    NaN    NaN   \n6   ...      NaN    NaN   NaN    NaN      NaN     NaN      NaN    NaN    NaN   \n7   ...      NaN    NaN   NaN    NaN      NaN     NaN      NaN    NaN    NaN   \n8   ...      NaN    NaN   NaN    NaN      NaN     NaN      NaN    NaN    NaN   \n9   ...      NaN    NaN   NaN    NaN      NaN     NaN      NaN    NaN    NaN   \n10  ...      NaN    NaN   NaN    NaN      NaN     NaN      NaN    NaN    NaN   \n11  ...      NaN    NaN   NaN    NaN      NaN     NaN      NaN    NaN    NaN   \n12  ...      NaN    NaN   NaN    NaN      NaN     NaN      NaN    NaN    NaN   \n13  ...      NaN    NaN   NaN    NaN      NaN     NaN      NaN    NaN    NaN   \n14  ...      NaN    NaN   NaN    NaN      NaN     NaN      NaN    NaN    NaN   \n15  ...      NaN    NaN   NaN    NaN      NaN     NaN      NaN    NaN    NaN   \n16  ...      NaN    NaN   NaN    NaN      NaN     NaN      NaN    NaN    NaN   \n17  ...      NaN  2,400   NaN  2,400      NaN   2,400  900,000    NaN  2,400   \n18  ...      NaN    NaN   NaN    NaN      NaN  16,000      NaN  4,000  5,500   \n19  ...      NaN    NaN   NaN    NaN      NaN  16,000      NaN  4,000  5,500   \n20  ...      NaN    NaN   NaN  2,800  900,000  22,000      NaN  6,500  6,000   \n21  ...  900,000    NaN   NaN  3,000      NaN  32,000      NaN  5,000  5,500   \n22  ...      NaN    NaN   0.0  3,000      NaN  32,000      NaN  5,000    NaN   \n23  ...      NaN    NaN   0.0  3,500      NaN  32,000      NaN  5,000    NaN   \n\n      64354  \n0       NaN  \n1       NaN  \n2       NaN  \n3       NaN  \n4       NaN  \n5       NaN  \n6       NaN  \n7       NaN  \n8       NaN  \n9       NaN  \n10      NaN  \n11      NaN  \n12      NaN  \n13      NaN  \n14      NaN  \n15      NaN  \n16      NaN  \n17      NaN  \n18  900,000  \n19      NaN  \n20      NaN  \n21      NaN  \n22      NaN  \n23      NaN  \n\n[24 rows x 407 columns]\n안영태 error\n박병훈 error\n김광영 error\n이재림 error\n2\n[['연도', '연봉(만원)'], ['2016', '2,700']]\n      연도  50030  50036   50040  50054  50066  50126  50150  50157   50165  \\\n0   1997    NaN    NaN     NaN    NaN    NaN    NaN    NaN    NaN     NaN   \n1   1998    NaN    NaN     NaN    NaN    NaN    NaN    NaN    NaN     NaN   \n2   1999    NaN    NaN     NaN    NaN    NaN    NaN    NaN    NaN     NaN   \n3   2000    NaN    NaN     NaN    NaN    NaN    NaN    NaN    NaN     NaN   \n4   2001    NaN    NaN     NaN    NaN    NaN    NaN    NaN    NaN     NaN   \n5   2002    NaN    NaN     NaN    NaN    NaN    NaN    NaN    NaN     NaN   \n6   2003    NaN    NaN     NaN    NaN    NaN    NaN    NaN    NaN     NaN   \n7   2004    NaN    NaN     NaN    NaN    NaN    NaN    NaN    NaN     NaN   \n8   2005    NaN    NaN     NaN    NaN    NaN    NaN    NaN    NaN     NaN   \n9   2006    NaN    NaN     NaN    NaN    NaN    NaN    NaN    NaN     NaN   \n10  2007    NaN    NaN     NaN    NaN    NaN    NaN    NaN    NaN     NaN   \n11  2008    NaN    NaN     NaN    NaN    NaN    NaN    NaN    NaN     NaN   \n12  2009    NaN    NaN     NaN    NaN    NaN    NaN    NaN    NaN     NaN   \n13  2010    NaN    NaN     NaN    NaN    NaN    NaN    NaN    NaN     NaN   \n14  2011    NaN    NaN     NaN    NaN    NaN    NaN    NaN    NaN     NaN   \n15  2012    NaN    NaN     NaN    NaN    NaN    NaN    NaN    NaN     NaN   \n16  2013    NaN    NaN     NaN    NaN    NaN    NaN    NaN    NaN     NaN   \n17  2014    NaN    NaN     NaN    NaN    NaN    NaN    NaN    NaN     NaN   \n18  2015    NaN    NaN     NaN    NaN    NaN    NaN    NaN    NaN     NaN   \n19  2016    NaN    NaN     NaN    NaN    NaN    NaN    NaN    NaN     NaN   \n20  2017    NaN    NaN     NaN    NaN    NaN    NaN    NaN    NaN     NaN   \n21  2018    NaN    NaN     NaN    NaN    NaN    NaN    NaN    NaN     NaN   \n22  2019    NaN    NaN     NaN    NaN    NaN    NaN    NaN    NaN     NaN   \n23  2020  2,700  2,700  45,000  2,700  2,700  2,700  2,700  2,700  30,000   \n\n    ...  64259 64260  64266    64267   64300    64302  64346  64350    64354  \\\n0   ...    NaN   NaN    NaN      NaN     NaN      NaN    NaN    NaN      NaN   \n1   ...    NaN   NaN    NaN      NaN     NaN      NaN    NaN    NaN      NaN   \n2   ...    NaN   NaN    NaN      NaN     NaN      NaN    NaN    NaN      NaN   \n3   ...    NaN   NaN    NaN      NaN     NaN      NaN    NaN    NaN      NaN   \n4   ...    NaN   NaN    NaN      NaN     NaN      NaN    NaN    NaN      NaN   \n5   ...    NaN   NaN    NaN      NaN     NaN      NaN    NaN    NaN      NaN   \n6   ...    NaN   NaN    NaN      NaN     NaN      NaN    NaN    NaN      NaN   \n7   ...    NaN   NaN    NaN      NaN     NaN      NaN    NaN    NaN      NaN   \n8   ...    NaN   NaN    NaN      NaN     NaN      NaN    NaN    NaN      NaN   \n9   ...    NaN   NaN    NaN      NaN     NaN      NaN    NaN    NaN      NaN   \n10  ...    NaN   NaN    NaN      NaN     NaN      NaN    NaN    NaN      NaN   \n11  ...    NaN   NaN    NaN      NaN     NaN      NaN    NaN    NaN      NaN   \n12  ...    NaN   NaN    NaN      NaN     NaN      NaN    NaN    NaN      NaN   \n13  ...    NaN   NaN    NaN      NaN     NaN      NaN    NaN    NaN      NaN   \n14  ...    NaN   NaN    NaN      NaN     NaN      NaN    NaN    NaN      NaN   \n15  ...    NaN   NaN    NaN      NaN     NaN      NaN    NaN    NaN      NaN   \n16  ...    NaN   NaN    NaN      NaN     NaN      NaN    NaN    NaN      NaN   \n17  ...  2,400   NaN  2,400      NaN   2,400  900,000    NaN  2,400      NaN   \n18  ...    NaN   NaN    NaN      NaN  16,000      NaN  4,000  5,500  900,000   \n19  ...    NaN   NaN    NaN      NaN  16,000      NaN  4,000  5,500      NaN   \n20  ...    NaN   NaN  2,800  900,000  22,000      NaN  6,500  6,000      NaN   \n21  ...    NaN   NaN  3,000      NaN  32,000      NaN  5,000  5,500      NaN   \n22  ...    NaN   0.0  3,000      NaN  32,000      NaN  5,000    NaN      NaN   \n23  ...    NaN   0.0  3,500      NaN  32,000      NaN  5,000    NaN      NaN   \n\n    64396  \n0     NaN  \n1     NaN  \n2     NaN  \n3     NaN  \n4     NaN  \n5     NaN  \n6     NaN  \n7     NaN  \n8     NaN  \n9     NaN  \n10    NaN  \n11    NaN  \n12    NaN  \n13    NaN  \n14    NaN  \n15    NaN  \n16    NaN  \n17    NaN  \n18    NaN  \n19  2,700  \n20    NaN  \n21    NaN  \n22    NaN  \n23    NaN  \n\n[24 rows x 408 columns]\n우준석 error\n정윤기 error\n이희웅 error\n박제윤 error\n전경환 error\n김희준 error\n4\n[['연도', '연봉(만원)'], ['2018', '2,800'], ['2019', '2,800'], ['2020', '4,000']]\n      연도  50030  50036   50040  50054  50066  50126  50150  50157   50165  \\\n0   1997    NaN    NaN     NaN    NaN    NaN    NaN    NaN    NaN     NaN   \n1   1998    NaN    NaN     NaN    NaN    NaN    NaN    NaN    NaN     NaN   \n2   1999    NaN    NaN     NaN    NaN    NaN    NaN    NaN    NaN     NaN   \n3   2000    NaN    NaN     NaN    NaN    NaN    NaN    NaN    NaN     NaN   \n4   2001    NaN    NaN     NaN    NaN    NaN    NaN    NaN    NaN     NaN   \n5   2002    NaN    NaN     NaN    NaN    NaN    NaN    NaN    NaN     NaN   \n6   2003    NaN    NaN     NaN    NaN    NaN    NaN    NaN    NaN     NaN   \n7   2004    NaN    NaN     NaN    NaN    NaN    NaN    NaN    NaN     NaN   \n8   2005    NaN    NaN     NaN    NaN    NaN    NaN    NaN    NaN     NaN   \n9   2006    NaN    NaN     NaN    NaN    NaN    NaN    NaN    NaN     NaN   \n10  2007    NaN    NaN     NaN    NaN    NaN    NaN    NaN    NaN     NaN   \n11  2008    NaN    NaN     NaN    NaN    NaN    NaN    NaN    NaN     NaN   \n12  2009    NaN    NaN     NaN    NaN    NaN    NaN    NaN    NaN     NaN   \n13  2010    NaN    NaN     NaN    NaN    NaN    NaN    NaN    NaN     NaN   \n14  2011    NaN    NaN     NaN    NaN    NaN    NaN    NaN    NaN     NaN   \n15  2012    NaN    NaN     NaN    NaN    NaN    NaN    NaN    NaN     NaN   \n16  2013    NaN    NaN     NaN    NaN    NaN    NaN    NaN    NaN     NaN   \n17  2014    NaN    NaN     NaN    NaN    NaN    NaN    NaN    NaN     NaN   \n18  2015    NaN    NaN     NaN    NaN    NaN    NaN    NaN    NaN     NaN   \n19  2016    NaN    NaN     NaN    NaN    NaN    NaN    NaN    NaN     NaN   \n20  2017    NaN    NaN     NaN    NaN    NaN    NaN    NaN    NaN     NaN   \n21  2018    NaN    NaN     NaN    NaN    NaN    NaN    NaN    NaN     NaN   \n22  2019    NaN    NaN     NaN    NaN    NaN    NaN    NaN    NaN     NaN   \n23  2020  2,700  2,700  45,000  2,700  2,700  2,700  2,700  2,700  30,000   \n\n    ... 64260  64266    64267   64300    64302  64346  64350    64354  64396  \\\n0   ...   NaN    NaN      NaN     NaN      NaN    NaN    NaN      NaN    NaN   \n1   ...   NaN    NaN      NaN     NaN      NaN    NaN    NaN      NaN    NaN   \n2   ...   NaN    NaN      NaN     NaN      NaN    NaN    NaN      NaN    NaN   \n3   ...   NaN    NaN      NaN     NaN      NaN    NaN    NaN      NaN    NaN   \n4   ...   NaN    NaN      NaN     NaN      NaN    NaN    NaN      NaN    NaN   \n5   ...   NaN    NaN      NaN     NaN      NaN    NaN    NaN      NaN    NaN   \n6   ...   NaN    NaN      NaN     NaN      NaN    NaN    NaN      NaN    NaN   \n7   ...   NaN    NaN      NaN     NaN      NaN    NaN    NaN      NaN    NaN   \n8   ...   NaN    NaN      NaN     NaN      NaN    NaN    NaN      NaN    NaN   \n9   ...   NaN    NaN      NaN     NaN      NaN    NaN    NaN      NaN    NaN   \n10  ...   NaN    NaN      NaN     NaN      NaN    NaN    NaN      NaN    NaN   \n11  ...   NaN    NaN      NaN     NaN      NaN    NaN    NaN      NaN    NaN   \n12  ...   NaN    NaN      NaN     NaN      NaN    NaN    NaN      NaN    NaN   \n13  ...   NaN    NaN      NaN     NaN      NaN    NaN    NaN      NaN    NaN   \n14  ...   NaN    NaN      NaN     NaN      NaN    NaN    NaN      NaN    NaN   \n15  ...   NaN    NaN      NaN     NaN      NaN    NaN    NaN      NaN    NaN   \n16  ...   NaN    NaN      NaN     NaN      NaN    NaN    NaN      NaN    NaN   \n17  ...   NaN  2,400      NaN   2,400  900,000    NaN  2,400      NaN    NaN   \n18  ...   NaN    NaN      NaN  16,000      NaN  4,000  5,500  900,000    NaN   \n19  ...   NaN    NaN      NaN  16,000      NaN  4,000  5,500      NaN  2,700   \n20  ...   NaN  2,800  900,000  22,000      NaN  6,500  6,000      NaN    NaN   \n21  ...   NaN  3,000      NaN  32,000      NaN  5,000  5,500      NaN    NaN   \n22  ...   0.0  3,000      NaN  32,000      NaN  5,000    NaN      NaN    NaN   \n23  ...   0.0  3,500      NaN  32,000      NaN  5,000    NaN      NaN    NaN   \n\n    64407  \n0     NaN  \n1     NaN  \n2     NaN  \n3     NaN  \n4     NaN  \n5     NaN  \n6     NaN  \n7     NaN  \n8     NaN  \n9     NaN  \n10    NaN  \n11    NaN  \n12    NaN  \n13    NaN  \n14    NaN  \n15    NaN  \n16    NaN  \n17    NaN  \n18    NaN  \n19    NaN  \n20    NaN  \n21  2,800  \n22  2,800  \n23  4,000  \n\n[24 rows x 409 columns]\n백종헌 error\n4\n[['연도', '연봉(만원)'], ['2018', '2,700'], ['2019', '2,700'], ['2020', '4,500']]\n      연도  50030  50036   50040  50054  50066  50126  50150  50157   50165  \\\n0   1997    NaN    NaN     NaN    NaN    NaN    NaN    NaN    NaN     NaN   \n1   1998    NaN    NaN     NaN    NaN    NaN    NaN    NaN    NaN     NaN   \n2   1999    NaN    NaN     NaN    NaN    NaN    NaN    NaN    NaN     NaN   \n3   2000    NaN    NaN     NaN    NaN    NaN    NaN    NaN    NaN     NaN   \n4   2001    NaN    NaN     NaN    NaN    NaN    NaN    NaN    NaN     NaN   \n5   2002    NaN    NaN     NaN    NaN    NaN    NaN    NaN    NaN     NaN   \n6   2003    NaN    NaN     NaN    NaN    NaN    NaN    NaN    NaN     NaN   \n7   2004    NaN    NaN     NaN    NaN    NaN    NaN    NaN    NaN     NaN   \n8   2005    NaN    NaN     NaN    NaN    NaN    NaN    NaN    NaN     NaN   \n9   2006    NaN    NaN     NaN    NaN    NaN    NaN    NaN    NaN     NaN   \n10  2007    NaN    NaN     NaN    NaN    NaN    NaN    NaN    NaN     NaN   \n11  2008    NaN    NaN     NaN    NaN    NaN    NaN    NaN    NaN     NaN   \n12  2009    NaN    NaN     NaN    NaN    NaN    NaN    NaN    NaN     NaN   \n13  2010    NaN    NaN     NaN    NaN    NaN    NaN    NaN    NaN     NaN   \n14  2011    NaN    NaN     NaN    NaN    NaN    NaN    NaN    NaN     NaN   \n15  2012    NaN    NaN     NaN    NaN    NaN    NaN    NaN    NaN     NaN   \n16  2013    NaN    NaN     NaN    NaN    NaN    NaN    NaN    NaN     NaN   \n17  2014    NaN    NaN     NaN    NaN    NaN    NaN    NaN    NaN     NaN   \n18  2015    NaN    NaN     NaN    NaN    NaN    NaN    NaN    NaN     NaN   \n19  2016    NaN    NaN     NaN    NaN    NaN    NaN    NaN    NaN     NaN   \n20  2017    NaN    NaN     NaN    NaN    NaN    NaN    NaN    NaN     NaN   \n21  2018    NaN    NaN     NaN    NaN    NaN    NaN    NaN    NaN     NaN   \n22  2019    NaN    NaN     NaN    NaN    NaN    NaN    NaN    NaN     NaN   \n23  2020  2,700  2,700  45,000  2,700  2,700  2,700  2,700  2,700  30,000   \n\n    ...  64266    64267   64300    64302  64346  64350    64354  64396  64407  \\\n0   ...    NaN      NaN     NaN      NaN    NaN    NaN      NaN    NaN    NaN   \n1   ...    NaN      NaN     NaN      NaN    NaN    NaN      NaN    NaN    NaN   \n2   ...    NaN      NaN     NaN      NaN    NaN    NaN      NaN    NaN    NaN   \n3   ...    NaN      NaN     NaN      NaN    NaN    NaN      NaN    NaN    NaN   \n4   ...    NaN      NaN     NaN      NaN    NaN    NaN      NaN    NaN    NaN   \n5   ...    NaN      NaN     NaN      NaN    NaN    NaN      NaN    NaN    NaN   \n6   ...    NaN      NaN     NaN      NaN    NaN    NaN      NaN    NaN    NaN   \n7   ...    NaN      NaN     NaN      NaN    NaN    NaN      NaN    NaN    NaN   \n8   ...    NaN      NaN     NaN      NaN    NaN    NaN      NaN    NaN    NaN   \n9   ...    NaN      NaN     NaN      NaN    NaN    NaN      NaN    NaN    NaN   \n10  ...    NaN      NaN     NaN      NaN    NaN    NaN      NaN    NaN    NaN   \n11  ...    NaN      NaN     NaN      NaN    NaN    NaN      NaN    NaN    NaN   \n12  ...    NaN      NaN     NaN      NaN    NaN    NaN      NaN    NaN    NaN   \n13  ...    NaN      NaN     NaN      NaN    NaN    NaN      NaN    NaN    NaN   \n14  ...    NaN      NaN     NaN      NaN    NaN    NaN      NaN    NaN    NaN   \n15  ...    NaN      NaN     NaN      NaN    NaN    NaN      NaN    NaN    NaN   \n16  ...    NaN      NaN     NaN      NaN    NaN    NaN      NaN    NaN    NaN   \n17  ...  2,400      NaN   2,400  900,000    NaN  2,400      NaN    NaN    NaN   \n18  ...    NaN      NaN  16,000      NaN  4,000  5,500  900,000    NaN    NaN   \n19  ...    NaN      NaN  16,000      NaN  4,000  5,500      NaN  2,700    NaN   \n20  ...  2,800  900,000  22,000      NaN  6,500  6,000      NaN    NaN    NaN   \n21  ...  3,000      NaN  32,000      NaN  5,000  5,500      NaN    NaN  2,800   \n22  ...  3,000      NaN  32,000      NaN  5,000    NaN      NaN    NaN  2,800   \n23  ...  3,500      NaN  32,000      NaN  5,000    NaN      NaN    NaN  4,000   \n\n    64410  \n0     NaN  \n1     NaN  \n2     NaN  \n3     NaN  \n4     NaN  \n5     NaN  \n6     NaN  \n7     NaN  \n8     NaN  \n9     NaN  \n10    NaN  \n11    NaN  \n12    NaN  \n13    NaN  \n14    NaN  \n15    NaN  \n16    NaN  \n17    NaN  \n18    NaN  \n19    NaN  \n20    NaN  \n21  2,700  \n22  2,700  \n23  4,500  \n\n[24 rows x 410 columns]\n<class 'pandas.core.frame.DataFrame'>\nInt64Index: 24 entries, 0 to 23\nColumns: 410 entries, 연도 to 64410\ndtypes: float64(79), int64(1), object(330)\nmemory usage: 77.1+ KB\n     연도 50030 50036 50040 50054 50066 50126 50150 50157 50165  ... 64266  \\\n0  1997   NaN   NaN   NaN   NaN   NaN   NaN   NaN   NaN   NaN  ...   NaN   \n1  1998   NaN   NaN   NaN   NaN   NaN   NaN   NaN   NaN   NaN  ...   NaN   \n2  1999   NaN   NaN   NaN   NaN   NaN   NaN   NaN   NaN   NaN  ...   NaN   \n3  2000   NaN   NaN   NaN   NaN   NaN   NaN   NaN   NaN   NaN  ...   NaN   \n4  2001   NaN   NaN   NaN   NaN   NaN   NaN   NaN   NaN   NaN  ...   NaN   \n\n  64267 64300 64302 64346 64350  64354  64396  64407  64410  \n0   NaN   NaN   NaN   NaN   NaN    NaN    NaN    NaN    NaN  \n1   NaN   NaN   NaN   NaN   NaN    NaN    NaN    NaN    NaN  \n2   NaN   NaN   NaN   NaN   NaN    NaN    NaN    NaN    NaN  \n3   NaN   NaN   NaN   NaN   NaN    NaN    NaN    NaN    NaN  \n4   NaN   NaN   NaN   NaN   NaN    NaN    NaN    NaN    NaN  \n\n[5 rows x 410 columns]\n"
    }
   ],
   "source": [
    "total = pd.DataFrame(range(1997,2021), columns=['연도'])\n",
    "\n",
    "# fake_useragent 모듈을 통한 User-Agent 정보 생성\n",
    "useragent = UserAgent()\n",
    "print(useragent.chrome)\n",
    "\n",
    "path = r'C:\\kkang\\dev-tool\\chromedriver.exe'\n",
    "driver = webdriver.Chrome(executable_path=path)\n",
    "\n",
    "for r in range(5):\n",
    "    for a,b,c in [new_player_info.iloc[r,:]] : \n",
    "        #print(a,b,c) #a:id b:이름 c:생년월일\n",
    "        url = 'http://www.statiz.co.kr/player.php?opt=11&name={0}&birth={1}'.format(b,c)\n",
    "        driver.get(url)\n",
    "        time.sleep(2)       \n",
    "\n",
    "        try :\n",
    "            table = driver.find_elements_by_css_selector('table')\n",
    "            lines=table[0].find_elements_by_xpath('/html/body/div[1]/div[1]/div/section[2]/div/div[2]/div/div/div/div[2]/table/tbody/tr')\n",
    "            print(len(lines))\n",
    "\n",
    "\n",
    "            salary = []\n",
    "            for l in range(0,len(lines)) :\n",
    "                text = lines[l].text\n",
    "                line = text.split(\" \")\n",
    "                salary.append(line[:2])\n",
    "            print(len(salary))\n",
    "\n",
    "            header = salary[0]\n",
    "            salary = pd.DataFrame(salary[1:], columns=header)\n",
    "            salary['연봉(만원)'].replace(salary['연봉(만원)'][salary['연봉(만원)'].str.contains(',') ==  False]\n",
    "                                        ,int(0), inplace=True) #연봉 정보 없는 경우 WAR 들어가는 것 0으로 변환\n",
    "            salary.rename(columns = {'연봉(만원)' : '{0}'.format(a)}, inplace = True)\n",
    "            salary['연도'] = salary['연도'].astype(int)\n",
    "\n",
    "            total = total.merge(salary,how='left')\n",
    "            print(total)\n",
    "\n",
    "        except IndexError :\n",
    "            print(b,'error')\n",
    "            pass \n",
    "        r_number = random.randint(1,30)\n",
    "        time.sleep(r_number)       \n",
    "\n",
    "driver.quit()\n",
    "\n",
    "total.info()\n",
    "print(total.head())"
   ]
  }
 ]
}