{
 "cells": [
  {
   "cell_type": "code",
   "execution_count": null,
   "metadata": {},
   "outputs": [],
   "source": [
    "import numpy as np\n",
    "import pandas as pd\n",
    "#from urllib import request\n",
    "import requests\n",
    "from bs4 import BeautifulSoup\n",
    "import time"
   ]
  },
  {
   "cell_type": "markdown",
   "metadata": {},
   "source": [
    "### 단일 페이지 (한 시즌, 한 팀)"
   ]
  },
  {
   "cell_type": "code",
   "execution_count": null,
   "metadata": {
    "tags": []
   },
   "outputs": [],
   "source": [
    "url = 'http://www.statiz.co.kr/salary.php?opt=0&sopt=2020&cnv=&pos=&te=3'\n",
    "r = requests.post(url)\n",
    "#r.status_code\n",
    "\n",
    "soup = BeautifulSoup(r.text, 'html5lib')\n",
    "salary = soup.select('table > tbody > tr')\n",
    "salarys = pd.DataFrame(columns= [salary[1].select('th')[a].text for a in range(4)])\n",
    "salarys\n",
    "try :\n",
    "    for r in range(2,500) :\n",
    "        salarys = salarys.append(pd.DataFrame([{'선수': salary[r].select('td')[0].text,\\\n",
    "                                                '연도': salary[r].select('td')[1].text,\\\n",
    "                                                '팀': salary[r].select('td')[2].text,\\\n",
    "                                                '연봉(만원)': salary[r].select('td')[3].text}])\n",
    "                                                , ignore_index=True)\n",
    "\n",
    "except IndexError :\n",
    "    pass"
   ]
  },
  {
   "cell_type": "markdown",
   "metadata": {},
   "source": [
    "### 1997~2020 / 팀 별"
   ]
  },
  {
   "cell_type": "code",
   "execution_count": 29,
   "metadata": {},
   "outputs": [],
   "source": [
    "import numpy as np\n",
    "import pandas as pd\n",
    "import random\n",
    "\n",
    "import requests\n",
    "from bs4 import BeautifulSoup\n",
    "from selenium import webdriver\n",
    "from fake_useragent import UserAgent\n",
    "from selenium.webdriver.common.by import By\n",
    "\n",
    "import time\n",
    "import csv\n",
    "import os"
   ]
  },
  {
   "cell_type": "code",
   "execution_count": 12,
   "metadata": {
    "tags": []
   },
   "outputs": [
    {
     "output_type": "stream",
     "name": "stdout",
     "text": "Mozilla/5.0 (X11; CrOS i686 3912.101.0) AppleWebKit/537.36 (KHTML, like Gecko) Chrome/27.0.1453.116 Safari/537.36\nhttp://www.statiz.co.kr/salary.php?opt=0&sopt=2011&cnv=&pos=&te=1\n52\nhttp://www.statiz.co.kr/salary.php?opt=0&sopt=2011&cnv=&pos=&te=2\n48\nhttp://www.statiz.co.kr/salary.php?opt=0&sopt=2011&cnv=&pos=&te=3\n49\nhttp://www.statiz.co.kr/salary.php?opt=0&sopt=2011&cnv=&pos=&te=4\n52\nhttp://www.statiz.co.kr/salary.php?opt=0&sopt=2011&cnv=&pos=&te=5\n52\nhttp://www.statiz.co.kr/salary.php?opt=0&sopt=2011&cnv=&pos=&te=6\n52\nhttp://www.statiz.co.kr/salary.php?opt=0&sopt=2011&cnv=&pos=&te=7\n51\nhttp://www.statiz.co.kr/salary.php?opt=0&sopt=2011&cnv=&pos=&te=8\n53\nhttp://www.statiz.co.kr/salary.php?opt=0&sopt=2011&cnv=&pos=&te=9\n0\nhttp://www.statiz.co.kr/salary.php?opt=0&sopt=2011&cnv=&pos=&te=10\n0\nhttp://www.statiz.co.kr/salary.php?opt=0&sopt=2011&cnv=&pos=&te=101\n0\nhttp://www.statiz.co.kr/salary.php?opt=0&sopt=2011&cnv=&pos=&te=102\n0\nhttp://www.statiz.co.kr/salary.php?opt=0&sopt=2012&cnv=&pos=&te=1\n51\nhttp://www.statiz.co.kr/salary.php?opt=0&sopt=2012&cnv=&pos=&te=2\n53\nhttp://www.statiz.co.kr/salary.php?opt=0&sopt=2012&cnv=&pos=&te=3\n49\nhttp://www.statiz.co.kr/salary.php?opt=0&sopt=2012&cnv=&pos=&te=4\n55\nhttp://www.statiz.co.kr/salary.php?opt=0&sopt=2012&cnv=&pos=&te=5\n54\nhttp://www.statiz.co.kr/salary.php?opt=0&sopt=2012&cnv=&pos=&te=6\n53\nhttp://www.statiz.co.kr/salary.php?opt=0&sopt=2012&cnv=&pos=&te=7\n56\nhttp://www.statiz.co.kr/salary.php?opt=0&sopt=2012&cnv=&pos=&te=8\n52\nhttp://www.statiz.co.kr/salary.php?opt=0&sopt=2012&cnv=&pos=&te=9\n5\nhttp://www.statiz.co.kr/salary.php?opt=0&sopt=2012&cnv=&pos=&te=10\n0\nhttp://www.statiz.co.kr/salary.php?opt=0&sopt=2012&cnv=&pos=&te=101\n0\nhttp://www.statiz.co.kr/salary.php?opt=0&sopt=2012&cnv=&pos=&te=102\n0\nhttp://www.statiz.co.kr/salary.php?opt=0&sopt=2013&cnv=&pos=&te=1\n49\nhttp://www.statiz.co.kr/salary.php?opt=0&sopt=2013&cnv=&pos=&te=2\n56\nhttp://www.statiz.co.kr/salary.php?opt=0&sopt=2013&cnv=&pos=&te=3\n55\nhttp://www.statiz.co.kr/salary.php?opt=0&sopt=2013&cnv=&pos=&te=4\n55\nhttp://www.statiz.co.kr/salary.php?opt=0&sopt=2013&cnv=&pos=&te=5\n55\nhttp://www.statiz.co.kr/salary.php?opt=0&sopt=2013&cnv=&pos=&te=6\n54\nhttp://www.statiz.co.kr/salary.php?opt=0&sopt=2013&cnv=&pos=&te=7\n53\nhttp://www.statiz.co.kr/salary.php?opt=0&sopt=2013&cnv=&pos=&te=8\n54\nhttp://www.statiz.co.kr/salary.php?opt=0&sopt=2013&cnv=&pos=&te=9\n42\nhttp://www.statiz.co.kr/salary.php?opt=0&sopt=2013&cnv=&pos=&te=10\n0\nhttp://www.statiz.co.kr/salary.php?opt=0&sopt=2013&cnv=&pos=&te=101\n0\nhttp://www.statiz.co.kr/salary.php?opt=0&sopt=2013&cnv=&pos=&te=102\n0\nhttp://www.statiz.co.kr/salary.php?opt=0&sopt=2014&cnv=&pos=&te=1\n66\nhttp://www.statiz.co.kr/salary.php?opt=0&sopt=2014&cnv=&pos=&te=2\n67\nhttp://www.statiz.co.kr/salary.php?opt=0&sopt=2014&cnv=&pos=&te=3\n69\nhttp://www.statiz.co.kr/salary.php?opt=0&sopt=2014&cnv=&pos=&te=4\n60\nhttp://www.statiz.co.kr/salary.php?opt=0&sopt=2014&cnv=&pos=&te=5\n73\nhttp://www.statiz.co.kr/salary.php?opt=0&sopt=2014&cnv=&pos=&te=6\n71\nhttp://www.statiz.co.kr/salary.php?opt=0&sopt=2014&cnv=&pos=&te=7\n75\nhttp://www.statiz.co.kr/salary.php?opt=0&sopt=2014&cnv=&pos=&te=8\n67\nhttp://www.statiz.co.kr/salary.php?opt=0&sopt=2014&cnv=&pos=&te=9\n62\nhttp://www.statiz.co.kr/salary.php?opt=0&sopt=2014&cnv=&pos=&te=10\n0\nhttp://www.statiz.co.kr/salary.php?opt=0&sopt=2014&cnv=&pos=&te=101\n0\nhttp://www.statiz.co.kr/salary.php?opt=0&sopt=2014&cnv=&pos=&te=102\n0\nhttp://www.statiz.co.kr/salary.php?opt=0&sopt=2015&cnv=&pos=&te=1\n67\nhttp://www.statiz.co.kr/salary.php?opt=0&sopt=2015&cnv=&pos=&te=2\n62\nhttp://www.statiz.co.kr/salary.php?opt=0&sopt=2015&cnv=&pos=&te=3\n66\nhttp://www.statiz.co.kr/salary.php?opt=0&sopt=2015&cnv=&pos=&te=4\n61\nhttp://www.statiz.co.kr/salary.php?opt=0&sopt=2015&cnv=&pos=&te=5\n61\nhttp://www.statiz.co.kr/salary.php?opt=0&sopt=2015&cnv=&pos=&te=6\n65\nhttp://www.statiz.co.kr/salary.php?opt=0&sopt=2015&cnv=&pos=&te=7\n74\nhttp://www.statiz.co.kr/salary.php?opt=0&sopt=2015&cnv=&pos=&te=8\n62\nhttp://www.statiz.co.kr/salary.php?opt=0&sopt=2015&cnv=&pos=&te=9\n65\nhttp://www.statiz.co.kr/salary.php?opt=0&sopt=2015&cnv=&pos=&te=10\n66\nhttp://www.statiz.co.kr/salary.php?opt=0&sopt=2015&cnv=&pos=&te=101\n0\nhttp://www.statiz.co.kr/salary.php?opt=0&sopt=2015&cnv=&pos=&te=102\n0\nhttp://www.statiz.co.kr/salary.php?opt=0&sopt=2016&cnv=&pos=&te=1\n84\nhttp://www.statiz.co.kr/salary.php?opt=0&sopt=2016&cnv=&pos=&te=2\n79\nhttp://www.statiz.co.kr/salary.php?opt=0&sopt=2016&cnv=&pos=&te=3\n77\nhttp://www.statiz.co.kr/salary.php?opt=0&sopt=2016&cnv=&pos=&te=4\n74\nhttp://www.statiz.co.kr/salary.php?opt=0&sopt=2016&cnv=&pos=&te=5\n89\nhttp://www.statiz.co.kr/salary.php?opt=0&sopt=2016&cnv=&pos=&te=6\n85\nhttp://www.statiz.co.kr/salary.php?opt=0&sopt=2016&cnv=&pos=&te=7\n88\nhttp://www.statiz.co.kr/salary.php?opt=0&sopt=2016&cnv=&pos=&te=8\n77\nhttp://www.statiz.co.kr/salary.php?opt=0&sopt=2016&cnv=&pos=&te=9\n67\nhttp://www.statiz.co.kr/salary.php?opt=0&sopt=2016&cnv=&pos=&te=10\n75\nhttp://www.statiz.co.kr/salary.php?opt=0&sopt=2016&cnv=&pos=&te=101\n0\nhttp://www.statiz.co.kr/salary.php?opt=0&sopt=2016&cnv=&pos=&te=102\n0\nhttp://www.statiz.co.kr/salary.php?opt=0&sopt=2017&cnv=&pos=&te=1\n72\nhttp://www.statiz.co.kr/salary.php?opt=0&sopt=2017&cnv=&pos=&te=2\n72\nhttp://www.statiz.co.kr/salary.php?opt=0&sopt=2017&cnv=&pos=&te=3\n68\nhttp://www.statiz.co.kr/salary.php?opt=0&sopt=2017&cnv=&pos=&te=4\n61\nhttp://www.statiz.co.kr/salary.php?opt=0&sopt=2017&cnv=&pos=&te=5\n72\nhttp://www.statiz.co.kr/salary.php?opt=0&sopt=2017&cnv=&pos=&te=6\n68\nhttp://www.statiz.co.kr/salary.php?opt=0&sopt=2017&cnv=&pos=&te=7\n79\nhttp://www.statiz.co.kr/salary.php?opt=0&sopt=2017&cnv=&pos=&te=8\n75\nhttp://www.statiz.co.kr/salary.php?opt=0&sopt=2017&cnv=&pos=&te=9\n62\nhttp://www.statiz.co.kr/salary.php?opt=0&sopt=2017&cnv=&pos=&te=10\n66\nhttp://www.statiz.co.kr/salary.php?opt=0&sopt=2017&cnv=&pos=&te=101\n0\nhttp://www.statiz.co.kr/salary.php?opt=0&sopt=2017&cnv=&pos=&te=102\n0\nhttp://www.statiz.co.kr/salary.php?opt=0&sopt=2018&cnv=&pos=&te=1\n83\nhttp://www.statiz.co.kr/salary.php?opt=0&sopt=2018&cnv=&pos=&te=2\n82\nhttp://www.statiz.co.kr/salary.php?opt=0&sopt=2018&cnv=&pos=&te=3\n88\nhttp://www.statiz.co.kr/salary.php?opt=0&sopt=2018&cnv=&pos=&te=4\n88\nhttp://www.statiz.co.kr/salary.php?opt=0&sopt=2018&cnv=&pos=&te=5\n83\nhttp://www.statiz.co.kr/salary.php?opt=0&sopt=2018&cnv=&pos=&te=6\n79\nhttp://www.statiz.co.kr/salary.php?opt=0&sopt=2018&cnv=&pos=&te=7\n91\nhttp://www.statiz.co.kr/salary.php?opt=0&sopt=2018&cnv=&pos=&te=8\n79\nhttp://www.statiz.co.kr/salary.php?opt=0&sopt=2018&cnv=&pos=&te=9\n89\nhttp://www.statiz.co.kr/salary.php?opt=0&sopt=2018&cnv=&pos=&te=10\n80\nhttp://www.statiz.co.kr/salary.php?opt=0&sopt=2018&cnv=&pos=&te=101\n0\nhttp://www.statiz.co.kr/salary.php?opt=0&sopt=2018&cnv=&pos=&te=102\n0\nhttp://www.statiz.co.kr/salary.php?opt=0&sopt=2019&cnv=&pos=&te=1\n27\nhttp://www.statiz.co.kr/salary.php?opt=0&sopt=2019&cnv=&pos=&te=2\n22\nhttp://www.statiz.co.kr/salary.php?opt=0&sopt=2019&cnv=&pos=&te=3\n17\nhttp://www.statiz.co.kr/salary.php?opt=0&sopt=2019&cnv=&pos=&te=4\n23\nhttp://www.statiz.co.kr/salary.php?opt=0&sopt=2019&cnv=&pos=&te=5\n24\nhttp://www.statiz.co.kr/salary.php?opt=0&sopt=2019&cnv=&pos=&te=6\n28\nhttp://www.statiz.co.kr/salary.php?opt=0&sopt=2019&cnv=&pos=&te=7\n16\nhttp://www.statiz.co.kr/salary.php?opt=0&sopt=2019&cnv=&pos=&te=8\n11\nhttp://www.statiz.co.kr/salary.php?opt=0&sopt=2019&cnv=&pos=&te=9\n14\nhttp://www.statiz.co.kr/salary.php?opt=0&sopt=2019&cnv=&pos=&te=10\n14\nhttp://www.statiz.co.kr/salary.php?opt=0&sopt=2019&cnv=&pos=&te=101\n0\nhttp://www.statiz.co.kr/salary.php?opt=0&sopt=2019&cnv=&pos=&te=102\n0\nhttp://www.statiz.co.kr/salary.php?opt=0&sopt=2020&cnv=&pos=&te=1\n73\nhttp://www.statiz.co.kr/salary.php?opt=0&sopt=2020&cnv=&pos=&te=2\n64\nhttp://www.statiz.co.kr/salary.php?opt=0&sopt=2020&cnv=&pos=&te=3\n67\nhttp://www.statiz.co.kr/salary.php?opt=0&sopt=2020&cnv=&pos=&te=4\n69\nhttp://www.statiz.co.kr/salary.php?opt=0&sopt=2020&cnv=&pos=&te=5\n69\nhttp://www.statiz.co.kr/salary.php?opt=0&sopt=2020&cnv=&pos=&te=6\n72\nhttp://www.statiz.co.kr/salary.php?opt=0&sopt=2020&cnv=&pos=&te=7\n60\nhttp://www.statiz.co.kr/salary.php?opt=0&sopt=2020&cnv=&pos=&te=8\n57\nhttp://www.statiz.co.kr/salary.php?opt=0&sopt=2020&cnv=&pos=&te=9\n66\nhttp://www.statiz.co.kr/salary.php?opt=0&sopt=2020&cnv=&pos=&te=10\n86\nhttp://www.statiz.co.kr/salary.php?opt=0&sopt=2020&cnv=&pos=&te=101\n0\nhttp://www.statiz.co.kr/salary.php?opt=0&sopt=2020&cnv=&pos=&te=102\n0\n"
    }
   ],
   "source": [
    "# fake_useragent 모듈을 통한 User-Agent 정보 생성\n",
    "useragent = UserAgent()\n",
    "print(useragent.chrome)\n",
    "\n",
    "# #크롬 headless 옵션\n",
    "# options = webdriver.ChromeOptions()\n",
    "# options.add_argument('headless')\n",
    "# options.add_argument('window-size=1920x1080')\n",
    "# options.add_argument(\"disable-gpu\")\n",
    "# #headless 탐지 막기\n",
    "# options.add_argument(\"user-agent=Mozilla/5.0 (Macintosh; Intel Mac OS X 10_12_6) AppleWebKit/537.36 (KHTML, like Gecko) Chrome/61.0.3163.100 Safari/537.36\")\n",
    "\n",
    "path = r'C:\\kkang\\dev-tool\\chromedriver.exe'\n",
    "driver = webdriver.Chrome(executable_path=path)\n",
    "\n",
    "salarys = pd.DataFrame(columns= ['선수','연도','팀','연봉(만원)'])\n",
    "year = list(range(2011,2021))\n",
    "team = list(range(1,11)) + [101,102] #해체구단\n",
    "\n",
    "for y in year :\n",
    "    for t in team :\n",
    "        url = 'http://www.statiz.co.kr/salary.php?opt=0&sopt={0}&cnv=&pos=&te={1}'.format(y,t)\n",
    "        print(url)\n",
    "        driver.get(url)\n",
    "        html = driver.page_source\n",
    "        driver.implicitly_wait(3)\n",
    "        soup = BeautifulSoup(html, 'html5lib')\n",
    "        salary = soup.select('table > tbody > tr')\n",
    "        print(len(salary[2:]))\n",
    "\n",
    "        r_number = random.randint(1,30)\n",
    "        time.sleep(r_number)       \n",
    "\n",
    "        for r in range(2,len(salary)) :\n",
    "            try:\n",
    "                salarys = salarys.append(pd.DataFrame([{'선수': salary[r].select('td')[0].text,\\\n",
    "                                                        '연도': salary[r].select('td')[1].text,\\\n",
    "                                                        '팀': salary[r].select('td')[2].text,\\\n",
    "                                                        '연봉(만원)': salary[r].select('td')[3].text}])\n",
    "                                        , ignore_index=True)\n",
    "            except IndexError :\n",
    "                time.sleep(2)\n",
    "                print('error')\n",
    "                break           \n",
    "\n",
    "        #print(salarys)\n",
    "\n",
    "        r_number = random.randint(1,30)\n",
    "        time.sleep(r_number)\n",
    "\n",
    "driver.quit()"
   ]
  },
  {
   "cell_type": "code",
   "execution_count": 13,
   "metadata": {
    "tags": []
   },
   "outputs": [
    {
     "output_type": "stream",
     "name": "stdout",
     "text": "<class 'pandas.core.frame.DataFrame'>\nRangeIndex: 5780 entries, 0 to 5779\nData columns (total 4 columns):\n #   Column  Non-Null Count  Dtype \n---  ------  --------------  ----- \n 0   선수      5780 non-null   object\n 1   연도      5780 non-null   object\n 2   팀       5780 non-null   object\n 3   연봉(만원)  5780 non-null   object\ndtypes: object(4)\nmemory usage: 180.8+ KB\n     선수    연도    팀   연봉(만원)\n0  트레비스  2011  KIA  900,000\n1   최희섭  2011  KIA   40,000\n2   이범호  2011  KIA   40,000\n3   서재응  2011  KIA   33,000\n4   김상훈  2011  KIA   32,500\n       선수    연도   팀 연봉(만원)\n5775  지강혁  2020  kt  2,700\n5776  소형준  2020  kt  2,700\n5777  이강준  2020  kt  2,700\n5778  강현우  2020  kt  2,700\n5779  박규민  2020  kt  2,700\n"
    }
   ],
   "source": [
    "salarys.info()\n",
    "print(salarys.head())\n",
    "print(salarys.tail())\n",
    "\n",
    "salarys.to_csv(\"C:/kkang/trying/salarys1121.csv\", header=True, index=True, encoding='EUC-KR')"
   ]
  },
  {
   "cell_type": "markdown",
   "metadata": {},
   "source": [
    "## 연봉 전체 합치기"
   ]
  },
  {
   "cell_type": "code",
   "execution_count": 25,
   "metadata": {},
   "outputs": [],
   "source": [
    "import pandas as pd\n",
    "import numpy as np  \n",
    "import glob  \n",
    "import sys\n",
    "import xlrd\n",
    "import csv"
   ]
  },
  {
   "cell_type": "code",
   "execution_count": 26,
   "metadata": {},
   "outputs": [],
   "source": [
    "all_salarys = pd.DataFrame()\n",
    "\n",
    "for f in glob.glob('C:/kkang/trying/salarys/*.csv') :\n",
    "    data = pd.read_csv(f, encoding='euc-kr')\n",
    "    cols= ['선수','연도','팀','연봉(만원)']\n",
    "    df = pd.DataFrame(data, columns=cols)\n",
    "    all_salarys = all_salarys.append(df, ignore_index=True)"
   ]
  },
  {
   "cell_type": "code",
   "execution_count": 23,
   "metadata": {},
   "outputs": [],
   "source": [
    "#all_salarys.sort_values(by=['연도', '팀', '연봉(만원)'], ascending=[True, True, False], inplace=True)"
   ]
  },
  {
   "cell_type": "code",
   "execution_count": 27,
   "metadata": {
    "tags": []
   },
   "outputs": [
    {
     "output_type": "stream",
     "name": "stdout",
     "text": "<class 'pandas.core.frame.DataFrame'>\nRangeIndex: 11067 entries, 0 to 11066\nData columns (total 4 columns):\n #   Column  Non-Null Count  Dtype \n---  ------  --------------  ----- \n 0   선수      11067 non-null  object\n 1   연도      11067 non-null  int64 \n 2   팀       11067 non-null  object\n 3   연봉(만원)  11067 non-null  object\ndtypes: int64(1), object(3)\nmemory usage: 346.0+ KB\n    선수    연도   팀  연봉(만원)\n0  이강철  1997  해태  11,000\n1  김정수  1997  해태   9,600\n2  홍현우  1997  해태   9,600\n3  이대진  1997  해태   9,000\n4  이호성  1997  해태   7,000\n        선수    연도   팀 연봉(만원)\n11062  지강혁  2020  kt  2,700\n11063  소형준  2020  kt  2,700\n11064  이강준  2020  kt  2,700\n11065  강현우  2020  kt  2,700\n11066  박규민  2020  kt  2,700\n"
    }
   ],
   "source": [
    "all_salarys.info()\n",
    "print(all_salarys.head())\n",
    "print(all_salarys.tail())"
   ]
  },
  {
   "cell_type": "code",
   "execution_count": 28,
   "metadata": {},
   "outputs": [],
   "source": [
    "all_salarys.to_csv(\"C:/kkang/trying/all_salarys.csv\", header=True, index=True, encoding='EUC-KR')"
   ]
  },
  {
   "cell_type": "markdown",
   "metadata": {},
   "source": [
    "## 팀 번호 & 팀 명 뽑기"
   ]
  },
  {
   "cell_type": "code",
   "execution_count": 1,
   "metadata": {},
   "outputs": [],
   "source": [
    "import numpy as np\n",
    "import pandas as pd\n",
    "import random\n",
    "\n",
    "import requests\n",
    "from bs4 import BeautifulSoup\n",
    "from selenium import webdriver\n",
    "from fake_useragent import UserAgent\n",
    "from selenium.webdriver.common.by import By\n",
    "\n",
    "import time\n",
    "import csv\n",
    "import os"
   ]
  },
  {
   "cell_type": "code",
   "execution_count": 2,
   "metadata": {
    "tags": []
   },
   "outputs": [
    {
     "output_type": "stream",
     "name": "stdout",
     "text": "Mozilla/5.0 (Windows NT 6.2; WOW64) AppleWebKit/537.15 (KHTML, like Gecko) Chrome/24.0.1295.0 Safari/537.15\n"
    }
   ],
   "source": [
    "# fake_useragent 모듈을 통한 User-Agent 정보 생성\n",
    "useragent = UserAgent()\n",
    "print(useragent.chrome)\n",
    "\n",
    "path = r'C:\\kkang\\dev-tool\\chromedriver.exe'\n",
    "driver = webdriver.Chrome(executable_path=path)\n",
    "url = 'http://www.statiz.co.kr'\n",
    "driver.get(url)\n"
   ]
  },
  {
   "cell_type": "code",
   "execution_count": 9,
   "metadata": {
    "tags": []
   },
   "outputs": [
    {
     "output_type": "stream",
     "name": "stdout",
     "text": "Mozilla/5.0 (Windows NT 6.2) AppleWebKit/537.36 (KHTML, like Gecko) Chrome/28.0.1464.0 Safari/537.36\n1 해태\n2 삼성\n3 OB\nerror\n5 LG\n6 롯데\n7 한화\nerror\nerror\nerror\n101 현대\n102 쌍방울\n1 해태\n2 삼성\n3 OB\nerror\n5 LG\n6 롯데\n7 한화\nerror\nerror\nerror\n101 현대\n102 쌍방울\n1 해태\n2 삼성\n3 두산\nerror\n5 LG\n6 롯데\n7 한화\nerror\nerror\nerror\n101 현대\n102 쌍방울\n"
    }
   ],
   "source": [
    "# fake_useragent 모듈을 통한 User-Agent 정보 생성\n",
    "useragent = UserAgent()\n",
    "print(useragent.chrome)\n",
    "\n",
    "# #크롬 headless 옵션\n",
    "# options = webdriver.ChromeOptions()\n",
    "# options.add_argument('headless')\n",
    "# options.add_argument('window-size=1920x1080')\n",
    "# options.add_argument(\"disable-gpu\")\n",
    "# #headless 탐지 막기\n",
    "# options.add_argument(\"user-agent=Mozilla/5.0 (Macintosh; Intel Mac OS X 10_12_6) AppleWebKit/537.36 (KHTML, like Gecko) Chrome/61.0.3163.100 Safari/537.36\")\n",
    "\n",
    "path = r'C:\\kkang\\dev-tool\\chromedriver.exe'\n",
    "driver = webdriver.Chrome(executable_path=path)\n",
    "\n",
    "year = list(range(1997,2000))\n",
    "team = list(range(1,11)) + [101,102] #해체구단\n",
    "team_info = pd.DataFrame(columns=['teamno', 'teamname'])\n",
    "\n",
    "for y in year :\n",
    "    for t in team :\n",
    "        url = 'http://www.statiz.co.kr/salary.php?opt=0&sopt={0}&cnv=&pos=&te={1}'.format(y,t)\n",
    "        #print(url)\n",
    "        driver.get(url)\n",
    "        html = driver.page_source\n",
    "        driver.implicitly_wait(3)\n",
    "        soup = BeautifulSoup(html, 'html5lib')\n",
    "        salary = soup.select('table > tbody > tr')\n",
    "\n",
    "        r_number = random.randint(1,30)\n",
    "        time.sleep(r_number)\n",
    "               \n",
    "        try:\n",
    "            teamname = salary[2].select('td')[2].text\n",
    "            print(t, teamname)\n",
    "            team_info= team_info.append(pd.DataFrame([{'teamno': t, 'teamname': teamname}]), ignore_index = True)\n",
    "\n",
    "        except IndexError :\n",
    "            time.sleep(2)\n",
    "            print('error')\n",
    "            pass\n",
    "\n",
    "        r_number = random.randint(1,30)\n",
    "        time.sleep(r_number)\n",
    "driver.quit()"
   ]
  },
  {
   "cell_type": "code",
   "execution_count": 10,
   "metadata": {
    "tags": []
   },
   "outputs": [
    {
     "output_type": "stream",
     "name": "stdout",
     "text": "<class 'pandas.core.frame.DataFrame'>\nRangeIndex: 24 entries, 0 to 23\nData columns (total 2 columns):\n #   Column    Non-Null Count  Dtype \n---  ------    --------------  ----- \n 0   teamno    24 non-null     object\n 1   teamname  24 non-null     object\ndtypes: object(2)\nmemory usage: 512.0+ bytes\n  teamno teamname\n0      1       해태\n1      2       삼성\n2      3       OB\n3      5       LG\n4      6       롯데\n   teamno teamname\n19      5       LG\n20      6       롯데\n21      7       한화\n22    101       현대\n23    102      쌍방울\n"
    }
   ],
   "source": [
    "team_info.info()\n",
    "print(team_info.head())\n",
    "print(team_info.tail())"
   ]
  }
 ],
 "metadata": {
  "kernelspec": {
   "display_name": "Python 3",
   "language": "python",
   "name": "python3"
  },
  "language_info": {
   "codemirror_mode": {
    "name": "ipython",
    "version": 3
   },
   "file_extension": ".py",
   "mimetype": "text/x-python",
   "name": "python",
   "nbconvert_exporter": "python",
   "pygments_lexer": "ipython3",
   "version": "3.6.10"
  }
 },
 "nbformat": 4,
 "nbformat_minor": 4
}