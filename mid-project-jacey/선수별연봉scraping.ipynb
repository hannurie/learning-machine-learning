{
 "metadata": {
  "language_info": {
   "codemirror_mode": {
    "name": "ipython",
    "version": 3
   },
   "file_extension": ".py",
   "mimetype": "text/x-python",
   "name": "python",
   "nbconvert_exporter": "python",
   "pygments_lexer": "ipython3",
   "version": 3
  },
  "orig_nbformat": 2,
  "kernelspec": {
   "name": "python_defaultSpec_1597043773873",
   "display_name": "Python 3.6.10 64-bit ('hoseo': conda)"
  }
 },
 "nbformat": 4,
 "nbformat_minor": 2,
 "cells": [
  {
   "cell_type": "code",
   "execution_count": 2,
   "metadata": {},
   "outputs": [],
   "source": [
    "import numpy as np\n",
    "import pandas as pd\n",
    "import random\n",
    "\n",
    "import requests\n",
    "from bs4 import BeautifulSoup\n",
    "from selenium import webdriver\n",
    "from fake_useragent import UserAgent\n",
    "\n",
    "import time\n",
    "import csv\n",
    "import os"
   ]
  },
  {
   "cell_type": "code",
   "execution_count": 5,
   "metadata": {
    "tags": []
   },
   "outputs": [
    {
     "output_type": "stream",
     "name": "stdout",
     "text": "Mozilla/5.0 (Windows NT 6.1; WOW64) AppleWebKit/537.36 (KHTML, like Gecko) Chrome/31.0.1623.0 Safari/537.36\n"
    }
   ],
   "source": [
    "# fake_useragent 모듈을 통한 User-Agent 정보 생성\n",
    "useragent = UserAgent()\n",
    "print(useragent.chrome)\n",
    "\n",
    "path = r'C:\\kkang\\dev-tool\\chromedriver.exe'\n",
    "driver = webdriver.Chrome(executable_path=path)\n",
    "\n",
    "name = '양현종'\n",
    "birth = '1988-03-01'\n",
    "\n",
    "url = 'http://www.statiz.co.kr/player.php?name={0}&birth={1}'.format(name, birth)\n",
    "driver.get(url)\n",
    "\n",
    "#연봉 페이지로 이동\n",
    "driver.find_element_by_css_selector('body > div.wrapper > div.content-wrapper > div > section.content > div > div:nth-child(1) > div > div.col-xs-12.col-sm-8.col-md-8.col-lg-12 > div > div.table-responsive.no-padding.box > table > tbody > tr > td > a:nth-child(9) > i').click()"
   ]
  },
  {
   "cell_type": "code",
   "execution_count": 6,
   "metadata": {
    "tags": []
   },
   "outputs": [
    {
     "output_type": "stream",
     "name": "stdout",
     "text": "15\n[['연도', '연봉(만원)'], ['2007', '0.470'], ['2008', '2,400'], ['2009', '3,500'], ['2010', '10,000'], ['2011', '17,000'], ['2012', '14,000'], ['2013', '9,000'], ['2014', '12,000'], ['2015', '75,000'], ['2016', '75,000'], ['2017', '150,000'], ['2018', '230,000'], ['2019', '230,000'], ['2020', '230,000']]\n"
    },
    {
     "output_type": "execute_result",
     "data": {
      "text/plain": "      연도   연봉(만원)\n0   2007    0.470\n1   2008    2,400\n2   2009    3,500\n3   2010   10,000\n4   2011   17,000\n5   2012   14,000\n6   2013    9,000\n7   2014   12,000\n8   2015   75,000\n9   2016   75,000\n10  2017  150,000\n11  2018  230,000\n12  2019  230,000\n13  2020  230,000",
      "text/html": "<div>\n<style scoped>\n    .dataframe tbody tr th:only-of-type {\n        vertical-align: middle;\n    }\n\n    .dataframe tbody tr th {\n        vertical-align: top;\n    }\n\n    .dataframe thead th {\n        text-align: right;\n    }\n</style>\n<table border=\"1\" class=\"dataframe\">\n  <thead>\n    <tr style=\"text-align: right;\">\n      <th></th>\n      <th>연도</th>\n      <th>연봉(만원)</th>\n    </tr>\n  </thead>\n  <tbody>\n    <tr>\n      <th>0</th>\n      <td>2007</td>\n      <td>0.470</td>\n    </tr>\n    <tr>\n      <th>1</th>\n      <td>2008</td>\n      <td>2,400</td>\n    </tr>\n    <tr>\n      <th>2</th>\n      <td>2009</td>\n      <td>3,500</td>\n    </tr>\n    <tr>\n      <th>3</th>\n      <td>2010</td>\n      <td>10,000</td>\n    </tr>\n    <tr>\n      <th>4</th>\n      <td>2011</td>\n      <td>17,000</td>\n    </tr>\n    <tr>\n      <th>5</th>\n      <td>2012</td>\n      <td>14,000</td>\n    </tr>\n    <tr>\n      <th>6</th>\n      <td>2013</td>\n      <td>9,000</td>\n    </tr>\n    <tr>\n      <th>7</th>\n      <td>2014</td>\n      <td>12,000</td>\n    </tr>\n    <tr>\n      <th>8</th>\n      <td>2015</td>\n      <td>75,000</td>\n    </tr>\n    <tr>\n      <th>9</th>\n      <td>2016</td>\n      <td>75,000</td>\n    </tr>\n    <tr>\n      <th>10</th>\n      <td>2017</td>\n      <td>150,000</td>\n    </tr>\n    <tr>\n      <th>11</th>\n      <td>2018</td>\n      <td>230,000</td>\n    </tr>\n    <tr>\n      <th>12</th>\n      <td>2019</td>\n      <td>230,000</td>\n    </tr>\n    <tr>\n      <th>13</th>\n      <td>2020</td>\n      <td>230,000</td>\n    </tr>\n  </tbody>\n</table>\n</div>"
     },
     "metadata": {},
     "execution_count": 6
    }
   ],
   "source": [
    "table = driver.find_elements_by_css_selector('table')\n",
    "lines=table[0].find_elements_by_xpath('/html/body/div[1]/div[1]/div/section[2]/div/div[2]/div/div/div/div[2]/table/tbody/tr')\n",
    "print(len(lines))\n",
    "salary = []\n",
    "for l in range(0,len(lines)) :\n",
    "    text = lines[l].text\n",
    "    line = text.split(\" \")\n",
    "    salary.append(line[:2])\n",
    "print(salary)\n",
    "header = salary[0]\n",
    "salary = pd.DataFrame(salary[1:], columns=header)\n",
    "salary"
   ]
  }
 ]
}