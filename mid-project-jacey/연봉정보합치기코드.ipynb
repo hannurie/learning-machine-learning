{
 "cells": [
  {
   "cell_type": "code",
   "execution_count": 193,
   "metadata": {},
   "outputs": [],
   "source": [
    "import numpy as np\n",
    "import pandas as pd\n",
    "import random\n",
    "\n",
    "import requests\n",
    "from bs4 import BeautifulSoup\n",
    "from selenium import webdriver\n",
    "from fake_useragent import UserAgent\n",
    "\n",
    "import time\n",
    "import csv\n",
    "import os"
   ]
  },
  {
   "cell_type": "code",
   "execution_count": 222,
   "metadata": {
    "tags": []
   },
   "outputs": [
    {
     "output_type": "stream",
     "name": "stdout",
     "text": "Unnamed: 0    연도 50030 50036 50040 50054 50066 50126 50150 50157  ...  \\\n0           0  1997   NaN   NaN   NaN   NaN   NaN   NaN   NaN   NaN  ...   \n1           1  1998   NaN   NaN   NaN   NaN   NaN   NaN   NaN   NaN  ...   \n2           2  1999   NaN   NaN   NaN   NaN   NaN   NaN   NaN   NaN  ...   \n3           3  2000   NaN   NaN   NaN   NaN   NaN   NaN   NaN   NaN  ...   \n4           4  2001   NaN   NaN   NaN   NaN   NaN   NaN   NaN   NaN  ...   \n\n  64266 64267 64300 64302 64346 64350 64354  64396  64407  64410  \n0   NaN   NaN   NaN   NaN   NaN   NaN   NaN    NaN    NaN    NaN  \n1   NaN   NaN   NaN   NaN   NaN   NaN   NaN    NaN    NaN    NaN  \n2   NaN   NaN   NaN   NaN   NaN   NaN   NaN    NaN    NaN    NaN  \n3   NaN   NaN   NaN   NaN   NaN   NaN   NaN    NaN    NaN    NaN  \n4   NaN   NaN   NaN   NaN   NaN   NaN   NaN    NaN    NaN    NaN  \n\n[5 rows x 411 columns]\n   Unnamed: 0    연도 64430 64440 64462 64464 64468 64469 64492 64493  ...  \\\n0           0  1997   NaN   NaN   NaN   NaN   NaN   NaN   NaN   NaN  ...   \n1           1  1998   NaN   NaN   NaN   NaN   NaN   NaN   NaN   NaN  ...   \n2           2  1999   NaN   NaN   NaN   NaN   NaN   NaN   NaN   NaN  ...   \n3           3  2000   NaN   NaN   NaN   NaN   NaN   NaN   NaN   NaN  ...   \n4           4  2001   NaN   NaN   NaN   NaN   NaN   NaN   NaN   NaN  ...   \n\n  87110  87230 87270  87322  87340 87410 87412 87420 87421 87430  \n0   NaN  0.180   NaN    NaN  7,000   NaN   NaN   NaN   NaN   NaN  \n1   NaN  4,200   NaN    NaN  7,000   NaN   NaN   NaN   NaN   NaN  \n2   NaN    NaN   NaN  2,300  7,300   NaN   NaN   NaN   NaN   NaN  \n3   NaN    NaN   NaN    NaN  7,000   NaN   NaN   NaN   NaN   NaN  \n4   NaN    NaN   NaN    NaN  6,500   NaN   NaN   NaN   NaN   NaN  \n\n[5 rows x 1518 columns]\n   Unnamed: 0    연도  87460  87470  87510  87520  87531  87550  87570  87610  \\\n0           0  1997    NaN  8,500    NaN    NaN    NaN    NaN  2,900    NaN   \n1           1  1998    NaN  7,500    NaN    NaN    NaN    NaN    NaN    NaN   \n2           2  1999    NaN  6,800    NaN    NaN    NaN    NaN    NaN    NaN   \n3           3  2000    NaN    NaN    NaN    NaN    NaN    NaN    NaN    NaN   \n4           4  2001    NaN    NaN    NaN    NaN    NaN    NaN    NaN    NaN   \n\n   ...   99719  99724  99725   99731   99737  99738   99742  99767   99810  \\\n0  ...     NaN    NaN    NaN     NaN     NaN    NaN     NaN    NaN     NaN   \n1  ...     NaN    NaN    NaN     NaN     NaN    NaN     NaN    NaN     NaN   \n2  ...  -0.017  4.926  5.785  -0.509  -0.009  2,000     NaN    NaN  -0.099   \n3  ...   2,100  3.192  4.698   2,200   2,200  2,000  -0.131  0.064   2,600   \n4  ...   1,700  1.148  6.039   2,700   2,000    NaN   2,000    NaN   3,600   \n\n   99846  \n0    NaN  \n1    NaN  \n2  -0.07  \n3    NaN  \n4    NaN  \n\n[5 rows x 867 columns]\n"
    }
   ],
   "source": [
    "df1 = pd.read_csv(r'C:\\Users\\hoseo\\Desktop\\프로젝트\\salary_to64410.csv', encoding='euc-kr')\n",
    "df2 = pd.read_csv(r'C:\\Users\\hoseo\\Desktop\\프로젝트\\salary_from64411to87430.csv', encoding='euc-kr')\n",
    "df3 = pd.read_csv(r'C:\\Users\\hoseo\\Desktop\\프로젝트\\salary_from87460.csv', encoding='euc-kr')\n",
    "print(df1.head())\n",
    "print(df2.head())\n",
    "print(df3.head())"
   ]
  },
  {
   "cell_type": "code",
   "execution_count": 285,
   "metadata": {
    "tags": []
   },
   "outputs": [
    {
     "output_type": "stream",
     "name": "stdout",
     "text": "<class 'pandas.core.frame.DataFrame'>\nRangeIndex: 24 entries, 0 to 23\nColumns: 411 entries, Unnamed: 0 to 64410\ndtypes: float64(79), int64(2), object(330)\nmemory usage: 77.2+ KB\n<class 'pandas.core.frame.DataFrame'>\nRangeIndex: 24 entries, 0 to 23\nColumns: 1518 entries, Unnamed: 0 to 87430\ndtypes: float64(548), int64(2), object(968)\nmemory usage: 284.8+ KB\n<class 'pandas.core.frame.DataFrame'>\nRangeIndex: 24 entries, 0 to 23\nColumns: 867 entries, Unnamed: 0 to 99846\ndtypes: float64(452), int64(2), object(413)\nmemory usage: 162.7+ KB\n"
    }
   ],
   "source": [
    "df1.info()\n",
    "df2.info()\n",
    "df3.info()"
   ]
  },
  {
   "cell_type": "code",
   "execution_count": 340,
   "metadata": {},
   "outputs": [],
   "source": [
    "salary_by_year = pd.concat([df1,df2,df3], axis=1)\n",
    "salary_by_year = salary_by_year.iloc[:, 1:]"
   ]
  },
  {
   "cell_type": "code",
   "execution_count": 341,
   "metadata": {
    "tags": []
   },
   "outputs": [
    {
     "output_type": "stream",
     "name": "stdout",
     "text": "<class 'pandas.core.frame.DataFrame'>\nRangeIndex: 24 entries, 0 to 23\nColumns: 2795 entries, 연도 to 99846\ndtypes: float64(1079), int64(5), object(1711)\nmemory usage: 524.2+ KB\n     연도 50030 50036 50040 50054 50066 50126 50150 50157 50165  ...   99719  \\\n0  1997   NaN   NaN   NaN   NaN   NaN   NaN   NaN   NaN   NaN  ...     NaN   \n1  1998   NaN   NaN   NaN   NaN   NaN   NaN   NaN   NaN   NaN  ...     NaN   \n2  1999   NaN   NaN   NaN   NaN   NaN   NaN   NaN   NaN   NaN  ...  -0.017   \n3  2000   NaN   NaN   NaN   NaN   NaN   NaN   NaN   NaN   NaN  ...   2,100   \n4  2001   NaN   NaN   NaN   NaN   NaN   NaN   NaN   NaN   NaN  ...   1,700   \n\n   99724  99725   99731   99737  99738   99742  99767   99810  99846  \n0    NaN    NaN     NaN     NaN    NaN     NaN    NaN     NaN    NaN  \n1    NaN    NaN     NaN     NaN    NaN     NaN    NaN     NaN    NaN  \n2  4.926  5.785  -0.509  -0.009  2,000     NaN    NaN  -0.099  -0.07  \n3  3.192  4.698   2,200   2,200  2,000  -0.131  0.064   2,600    NaN  \n4  1.148  6.039   2,700   2,000    NaN   2,000    NaN   3,600    NaN  \n\n[5 rows x 2795 columns]\n      연도  50030  50036   50040  50054  50066  50126  50150  50157   50165  \\\n19  2016    NaN    NaN     NaN    NaN    NaN    NaN    NaN    NaN     NaN   \n20  2017    NaN    NaN     NaN    NaN    NaN    NaN    NaN    NaN     NaN   \n21  2018    NaN    NaN     NaN    NaN    NaN    NaN    NaN    NaN     NaN   \n22  2019    NaN    NaN     NaN    NaN    NaN    NaN    NaN    NaN     NaN   \n23  2020  2,700  2,700  45,000  2,700  2,700  2,700  2,700  2,700  30,000   \n\n    ... 99719 99724 99725 99731   99737 99738  99742  99767    99810  99846  \n19  ...   NaN   NaN   NaN   NaN  30,000   NaN    NaN    NaN   60,000    NaN  \n20  ...   NaN   NaN   NaN   NaN  33,000   NaN    NaN    NaN   40,000    NaN  \n21  ...   NaN   NaN   NaN   NaN     NaN   NaN    NaN    NaN  900,000    NaN  \n22  ...   NaN   NaN   NaN   NaN     NaN   NaN    NaN    NaN      NaN    NaN  \n23  ...   NaN   NaN   NaN   NaN     NaN   NaN    NaN    NaN      NaN    NaN  \n\n[5 rows x 2795 columns]\n"
    }
   ],
   "source": [
    "salary_by_year.info()\n",
    "print(salary_by_year.head())\n",
    "print(salary_by_year.tail())"
   ]
  },
  {
   "cell_type": "code",
   "execution_count": 342,
   "metadata": {
    "tags": []
   },
   "outputs": [
    {
     "output_type": "stream",
     "name": "stdout",
     "text": "<class 'pandas.core.frame.DataFrame'>\nRangeIndex: 24 entries, 0 to 23\nColumns: 2795 entries, 연도 to 99846\ndtypes: object(2795)\nmemory usage: 524.2+ KB\n"
    }
   ],
   "source": [
    "salary_by_year = salary_by_year.astype(str)\n",
    "salary_by_year.info()"
   ]
  },
  {
   "cell_type": "code",
   "execution_count": 343,
   "metadata": {},
   "outputs": [
    {
     "output_type": "execute_result",
     "data": {
      "text/plain": "(24, 2795)"
     },
     "metadata": {},
     "execution_count": 343
    }
   ],
   "source": [
    "salary_by_year.shape"
   ]
  },
  {
   "cell_type": "code",
   "execution_count": 344,
   "metadata": {
    "tags": []
   },
   "outputs": [
    {
     "output_type": "stream",
     "name": "stdout",
     "text": "1302\n"
    }
   ],
   "source": [
    "# 잘못 들어간 소수점 데이터 확인\n",
    "cnt = 0\n",
    "shape = salary_by_year.shape\n",
    "for r in range(shape[0]) :\n",
    "    for c in range(shape[1]) :\n",
    "        if '.' in salary_by_year.iloc[r, c]:\n",
    "            cnt += 1\n",
    "\n",
    "print( cnt )"
   ]
  },
  {
   "cell_type": "code",
   "execution_count": 345,
   "metadata": {
    "tags": []
   },
   "outputs": [],
   "source": [
    "# 소수점 데이터 0으로 바꾸기\n",
    "shape = salary_by_year.shape\n",
    "for r in range(shape[0]) :\n",
    "    for c in range(shape[1]) :\n",
    "        data = salary_by_year.iloc[r,c]\n",
    "        if '.' in data:\n",
    "            salary_by_year.iloc[r,c] = '0'"
   ]
  },
  {
   "cell_type": "code",
   "execution_count": 346,
   "metadata": {
    "tags": []
   },
   "outputs": [
    {
     "output_type": "stream",
     "name": "stdout",
     "text": "0\n"
    }
   ],
   "source": [
    "# 0으로 바꾼거 확인\n",
    "cnt = 0\n",
    "shape = salary_by_year.shape\n",
    "for r in range(shape[0]) :\n",
    "    for c in range(shape[1]) :\n",
    "        if '.' in salary_by_year.iloc[r, c]:\n",
    "            cnt += 1\n",
    "\n",
    "print( cnt )"
   ]
  },
  {
   "cell_type": "code",
   "execution_count": 347,
   "metadata": {
    "tags": []
   },
   "outputs": [
    {
     "output_type": "stream",
     "name": "stdout",
     "text": "<class 'pandas.core.frame.DataFrame'>\nRangeIndex: 24 entries, 0 to 23\nColumns: 2795 entries, 연도 to 99846\ndtypes: object(2795)\nmemory usage: 524.2+ KB\n"
    }
   ],
   "source": [
    "salary_by_year.info()"
   ]
  },
  {
   "cell_type": "code",
   "execution_count": null,
   "metadata": {},
   "outputs": [],
   "source": [
    "#salary_by_year.set_index('연도')"
   ]
  },
  {
   "cell_type": "code",
   "execution_count": 210,
   "metadata": {},
   "outputs": [],
   "source": [
    "#salary_by_year.transpose()"
   ]
  },
  {
   "cell_type": "code",
   "execution_count": 348,
   "metadata": {},
   "outputs": [],
   "source": [
    "salary_by_year.to_csv(r'C:\\Users\\hoseo\\Desktop\\프로젝트\\salary_by_year.csv', header=True, index=True, encoding='euc-kr')"
   ]
  }
 ],
 "metadata": {
  "language_info": {
   "codemirror_mode": {
    "name": "ipython",
    "version": 3
   },
   "file_extension": ".py",
   "mimetype": "text/x-python",
   "name": "python",
   "nbconvert_exporter": "python",
   "pygments_lexer": "ipython3",
   "version": "3.7.6-final"
  },
  "orig_nbformat": 2,
  "kernelspec": {
   "name": "python3",
   "display_name": "Python 3"
  }
 },
 "nbformat": 4,
 "nbformat_minor": 2
}