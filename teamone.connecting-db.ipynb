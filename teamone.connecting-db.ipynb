{
 "metadata": {
  "language_info": {
   "codemirror_mode": {
    "name": "ipython",
    "version": 3
   },
   "file_extension": ".py",
   "mimetype": "text/x-python",
   "name": "python",
   "nbconvert_exporter": "python",
   "pygments_lexer": "ipython3",
   "version": "3.6.10-final"
  },
  "orig_nbformat": 2,
  "kernelspec": {
   "name": "python361064bithoseoconda28d5d40e141448458b9de9acadf8fb67",
   "display_name": "Python 3.6.10 64-bit ('hoseo': conda)"
  }
 },
 "nbformat": 4,
 "nbformat_minor": 2,
 "cells": [
  {
   "cell_type": "code",
   "execution_count": 1,
   "metadata": {},
   "outputs": [],
   "source": [
    "import pandas as pd \n",
    "import csv\n",
    "import cx_Oracle"
   ]
  },
  {
   "cell_type": "code",
   "execution_count": 2,
   "metadata": {
    "tags": []
   },
   "outputs": [
    {
     "output_type": "stream",
     "name": "stdout",
     "text": "['이강철' 1997 '해태' '11000']\n['김정수' 1997 '해태' '9600']\n['홍현우' 1997 '해태' '9600']\n"
    }
   ],
   "source": [
    "f = pd.read_csv('data-files/all_salaries.csv')\n",
    "f = f.iloc[:, 1:]\n",
    "f = f.replace(',', '', regex=True)\n",
    "\n",
    "for row in f.values[:3]:\n",
    "    print(row)"
   ]
  },
  {
   "cell_type": "code",
   "execution_count": 3,
   "metadata": {},
   "outputs": [],
   "source": [
    "conn = cx_Oracle.connect('team', 'one', '127.0.0.1:1521/xe')\n",
    "cursor = conn.cursor()\n",
    "\n",
    "sql1 = \"\"\"\n",
    "        create table salaries (player varchar2(10 char), \n",
    "                               play_year number, \n",
    "                               player_team varchar2(10 char), \n",
    "                               salary number)\n",
    "      \n",
    "        \"\"\"\n",
    "\n",
    "cursor.execute(sql1)\n",
    "\n",
    "sql2 = \"\"\"\n",
    "        insert into salaries  values(:player, :play_year, :player_team, :salary)\n",
    "      \"\"\"\n",
    "\n",
    "for row in f.values:\n",
    "    \n",
    "    cursor.execute(sql2, row)\n",
    "    \n",
    "conn.commit()\n",
    "cursor.close()\n",
    "conn.close()"
   ]
  },
  {
   "cell_type": "code",
   "execution_count": 4,
   "metadata": {},
   "outputs": [],
   "source": [
    "pl = pd.read_csv('data-files/player_data_50000.csv', sep=',')\n",
    "\n",
    "pl. rename(columns={pl.columns[0]: 'ID'}, inplace=True)\n",
    "\n",
    "pl.rename(columns={'선수명: ':'player', '등번호: ':'back_number',  '생년월일: ':'birth_date', '포지션: ':'position', '신장/체중: ':'height/weight', '경력: ':'career', '입단 계약금: ':'down_payment', '연봉: ':'salary', '지명순위: ':'draft order', '입단년도: ':'first year'}, inplace=True)\n",
    "\n",
    "pl.isnull().sum(axis=0)\n",
    "pl.fillna('0', inplace=True)"
   ]
  },
  {
   "cell_type": "code",
   "execution_count": 5,
   "metadata": {},
   "outputs": [],
   "source": [
    "conn = cx_Oracle.connect('team', 'one', '127.0.0.1:1521/xe')\n",
    "cursor = conn.cursor()\n",
    "sql3 = \"\"\"\n",
    "        create table playerslist (identification varchar2(20 char) ,\n",
    "                                  player varchar2(10 char),\n",
    "                                  back_number varchar2(6 char) ,\n",
    "                                  birth_date varchar2(20 char),\n",
    "                                  positions varchar2(20 char),\n",
    "                                  heightweight varchar2(15 char) ,\n",
    "                                  career varchar2(100 char),\n",
    "                                  down_payment varchar2(10 char),\n",
    "                                  salary varchar2(10 char) ,\n",
    "                                  draft varchar2(100 char) ,\n",
    "                                  first_year varchar2(20 char)\n",
    "                                  )\n",
    "      \n",
    "        \"\"\"\n",
    "\n",
    "cursor.execute(sql3)"
   ]
  },
  {
   "cell_type": "code",
   "execution_count": 6,
   "metadata": {},
   "outputs": [],
   "source": [
    "sql4 = \"\"\"\n",
    "        insert into playerslist values(:identification, :player, :back_number, :birth_date, :positions, :heightweight, :career, :down_payment, :salary, :draft, :first_year)\n",
    "      \"\"\"\n",
    "\n",
    "for row in pl.values:\n",
    "    cursor.execute(sql4, row)\n",
    "\n",
    "conn.commit()\n",
    "cursor.close()\n",
    "conn.close()"
   ]
  },
  {
   "cell_type": "code",
   "execution_count": 7,
   "metadata": {},
   "outputs": [],
   "source": [
    "pl2 = pd.read_csv('data-files/player_data_60000.csv', sep=',')\n",
    "\n",
    "pl2. rename(columns={pl2.columns[0]: 'identification'}, inplace=True)\n",
    "\n",
    "pl2.rename(columns={'선수명: ':'player', '등번호: ':'back_number',  '생년월일: ':'birth_date', '포지션: ':'position', '신장/체중: ':'height/weight', '경력: ':'career', '입단 계약금: ':'down_payment', '연봉: ':'salary', '지명순위: ':'draft order', '입단년도: ':'first year'}, inplace=True)\n",
    "\n",
    "pl2.isnull().sum(axis=0)\n",
    "pl2.fillna('0', inplace=True)"
   ]
  },
  {
   "cell_type": "code",
   "execution_count": 8,
   "metadata": {},
   "outputs": [],
   "source": [
    "conn = cx_Oracle.connect('team', 'one', '127.0.0.1:1521/xe')\n",
    "cursor = conn.cursor()\n",
    "\n",
    "sql5 = \"\"\"\n",
    "        insert into playerslist values(:identification, :player, :back_number, :birth_date, :positions, :heightweight, :career, :down_payment, :salary, :draft, :first_year)\n",
    "      \"\"\"\n",
    "\n",
    "for row in pl2.values:\n",
    "    cursor.execute(sql5, row)\n",
    "\n",
    "conn.commit()\n",
    "cursor.close()\n",
    "conn.close()"
   ]
  },
  {
   "cell_type": "code",
   "execution_count": 9,
   "metadata": {},
   "outputs": [],
   "source": [
    "pl3 = pd.read_csv('data-files/player_data_70000_100000.csv', sep=',')\n",
    "\n",
    "pl3. rename(columns={pl3.columns[0]: 'identification'}, inplace=True)\n",
    "\n",
    "pl3.rename(columns={'선수명: ':'player', '등번호: ':'back_number',  '생년월일: ':'birth_date', '포지션: ':'position', '신장/체중: ':'height/weight', '경력: ':'career', '입단 계약금: ':'down_payment', '연봉: ':'salary', '지명순위: ':'draft order', '입단년도: ':'first year'}, inplace=True)\n",
    "\n",
    "pl3.isnull().sum(axis=0)\n",
    "pl3.fillna('0', inplace=True)"
   ]
  },
  {
   "cell_type": "code",
   "execution_count": 10,
   "metadata": {},
   "outputs": [],
   "source": [
    "conn = cx_Oracle.connect('team', 'one', '127.0.0.1:1521/xe')\n",
    "cursor = conn.cursor()\n",
    "\n",
    "sql6 = \"\"\"\n",
    "        insert into playerslist values(:identification, :player, :back_number, :birth_date, :positions, :heightweight, :career, :down_payment, :salary, :draft, :first_year)\n",
    "      \"\"\"\n",
    "\n",
    "for row in pl3.values:\n",
    "    cursor.execute(sql6, row)\n",
    "\n",
    "conn.commit()\n",
    "cursor.close()\n",
    "conn.close()"
   ]
  }
 ]
}